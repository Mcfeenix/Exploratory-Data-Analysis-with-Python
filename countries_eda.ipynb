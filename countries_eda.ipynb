{
 "cells": [
  {
   "cell_type": "markdown",
   "id": "46a7beb6-8f55-4395-a915-442324612de4",
   "metadata": {},
   "source": [
    "# Exploratory Data Analysis: Global Countries Information Dataset"
   ]
  },
  {
   "cell_type": "code",
   "execution_count": 1,
   "id": "9d9434d9-9b15-4923-b500-5ae9b33c1094",
   "metadata": {},
   "outputs": [],
   "source": [
    "import numpy as np\n",
    "import pandas as pd\n",
    "import matplotlib.pyplot as plt\n",
    "import seaborn as sns\n",
    "import plotly.express as px"
   ]
  },
  {
   "cell_type": "markdown",
   "id": "165a6e94-16aa-46c8-8d7e-edeba9c06bb0",
   "metadata": {},
   "source": [
    "#### Load the prepared countries.csv file and view the first 5 rows."
   ]
  },
  {
   "cell_type": "code",
   "execution_count": 2,
   "id": "5ff7c2eb-9209-4761-8e47-c2eb2c98da52",
   "metadata": {},
   "outputs": [
    {
     "data": {
      "text/html": [
       "<div>\n",
       "<style scoped>\n",
       "    .dataframe tbody tr th:only-of-type {\n",
       "        vertical-align: middle;\n",
       "    }\n",
       "\n",
       "    .dataframe tbody tr th {\n",
       "        vertical-align: top;\n",
       "    }\n",
       "\n",
       "    .dataframe thead th {\n",
       "        text-align: right;\n",
       "    }\n",
       "</style>\n",
       "<table border=\"1\" class=\"dataframe\">\n",
       "  <thead>\n",
       "    <tr style=\"text-align: right;\">\n",
       "      <th></th>\n",
       "      <th>country</th>\n",
       "      <th>density_pkm2</th>\n",
       "      <th>abbreviation</th>\n",
       "      <th>agricultural_land_pct</th>\n",
       "      <th>land_area_km2</th>\n",
       "      <th>armed_forces_size</th>\n",
       "      <th>birth_rate</th>\n",
       "      <th>calling_code</th>\n",
       "      <th>capital_major_city</th>\n",
       "      <th>co2_emissions</th>\n",
       "      <th>...</th>\n",
       "      <th>oop_health_expend</th>\n",
       "      <th>physicians_per_thousand</th>\n",
       "      <th>population</th>\n",
       "      <th>pop_labor_force_participation_pct</th>\n",
       "      <th>tax_revenue_pct</th>\n",
       "      <th>total_tax_rate</th>\n",
       "      <th>unemployment_rate</th>\n",
       "      <th>urban_population</th>\n",
       "      <th>latitude</th>\n",
       "      <th>longitude</th>\n",
       "    </tr>\n",
       "  </thead>\n",
       "  <tbody>\n",
       "    <tr>\n",
       "      <th>0</th>\n",
       "      <td>Afghanistan</td>\n",
       "      <td>60</td>\n",
       "      <td>AF</td>\n",
       "      <td>58.1</td>\n",
       "      <td>652230.0</td>\n",
       "      <td>323000.0</td>\n",
       "      <td>32.49</td>\n",
       "      <td>93.0</td>\n",
       "      <td>Kabul</td>\n",
       "      <td>8672.0</td>\n",
       "      <td>...</td>\n",
       "      <td>78.4</td>\n",
       "      <td>0.28</td>\n",
       "      <td>38041754.0</td>\n",
       "      <td>48.9</td>\n",
       "      <td>9.3</td>\n",
       "      <td>71.4</td>\n",
       "      <td>11.12</td>\n",
       "      <td>9797273.0</td>\n",
       "      <td>33.939110</td>\n",
       "      <td>67.709953</td>\n",
       "    </tr>\n",
       "    <tr>\n",
       "      <th>1</th>\n",
       "      <td>Albania</td>\n",
       "      <td>105</td>\n",
       "      <td>AL</td>\n",
       "      <td>43.1</td>\n",
       "      <td>28748.0</td>\n",
       "      <td>9000.0</td>\n",
       "      <td>11.78</td>\n",
       "      <td>355.0</td>\n",
       "      <td>Tirana</td>\n",
       "      <td>4536.0</td>\n",
       "      <td>...</td>\n",
       "      <td>56.9</td>\n",
       "      <td>1.20</td>\n",
       "      <td>2854191.0</td>\n",
       "      <td>55.7</td>\n",
       "      <td>18.6</td>\n",
       "      <td>36.6</td>\n",
       "      <td>12.33</td>\n",
       "      <td>1747593.0</td>\n",
       "      <td>41.153332</td>\n",
       "      <td>20.168331</td>\n",
       "    </tr>\n",
       "    <tr>\n",
       "      <th>2</th>\n",
       "      <td>Algeria</td>\n",
       "      <td>18</td>\n",
       "      <td>DZ</td>\n",
       "      <td>17.4</td>\n",
       "      <td>2381741.0</td>\n",
       "      <td>317000.0</td>\n",
       "      <td>24.28</td>\n",
       "      <td>213.0</td>\n",
       "      <td>Algiers</td>\n",
       "      <td>150006.0</td>\n",
       "      <td>...</td>\n",
       "      <td>28.1</td>\n",
       "      <td>1.72</td>\n",
       "      <td>43053054.0</td>\n",
       "      <td>41.2</td>\n",
       "      <td>37.2</td>\n",
       "      <td>66.1</td>\n",
       "      <td>11.70</td>\n",
       "      <td>31510100.0</td>\n",
       "      <td>28.033886</td>\n",
       "      <td>1.659626</td>\n",
       "    </tr>\n",
       "    <tr>\n",
       "      <th>3</th>\n",
       "      <td>Andorra</td>\n",
       "      <td>164</td>\n",
       "      <td>AD</td>\n",
       "      <td>40.0</td>\n",
       "      <td>468.0</td>\n",
       "      <td>NaN</td>\n",
       "      <td>7.20</td>\n",
       "      <td>376.0</td>\n",
       "      <td>Andorra la Vella</td>\n",
       "      <td>469.0</td>\n",
       "      <td>...</td>\n",
       "      <td>36.4</td>\n",
       "      <td>3.33</td>\n",
       "      <td>77142.0</td>\n",
       "      <td>NaN</td>\n",
       "      <td>NaN</td>\n",
       "      <td>NaN</td>\n",
       "      <td>NaN</td>\n",
       "      <td>67873.0</td>\n",
       "      <td>42.506285</td>\n",
       "      <td>1.521801</td>\n",
       "    </tr>\n",
       "    <tr>\n",
       "      <th>4</th>\n",
       "      <td>Angola</td>\n",
       "      <td>26</td>\n",
       "      <td>AO</td>\n",
       "      <td>47.5</td>\n",
       "      <td>1246700.0</td>\n",
       "      <td>117000.0</td>\n",
       "      <td>40.73</td>\n",
       "      <td>244.0</td>\n",
       "      <td>Luanda</td>\n",
       "      <td>34693.0</td>\n",
       "      <td>...</td>\n",
       "      <td>33.4</td>\n",
       "      <td>0.21</td>\n",
       "      <td>31825295.0</td>\n",
       "      <td>77.5</td>\n",
       "      <td>9.2</td>\n",
       "      <td>49.1</td>\n",
       "      <td>6.89</td>\n",
       "      <td>21061025.0</td>\n",
       "      <td>-11.202692</td>\n",
       "      <td>17.873887</td>\n",
       "    </tr>\n",
       "  </tbody>\n",
       "</table>\n",
       "<p>5 rows × 35 columns</p>\n",
       "</div>"
      ],
      "text/plain": [
       "       country  density_pkm2 abbreviation  agricultural_land_pct  \\\n",
       "0  Afghanistan            60           AF                   58.1   \n",
       "1      Albania           105           AL                   43.1   \n",
       "2      Algeria            18           DZ                   17.4   \n",
       "3      Andorra           164           AD                   40.0   \n",
       "4       Angola            26           AO                   47.5   \n",
       "\n",
       "   land_area_km2  armed_forces_size  birth_rate  calling_code  \\\n",
       "0       652230.0           323000.0       32.49          93.0   \n",
       "1        28748.0             9000.0       11.78         355.0   \n",
       "2      2381741.0           317000.0       24.28         213.0   \n",
       "3          468.0                NaN        7.20         376.0   \n",
       "4      1246700.0           117000.0       40.73         244.0   \n",
       "\n",
       "  capital_major_city  co2_emissions  ...  oop_health_expend  \\\n",
       "0              Kabul         8672.0  ...               78.4   \n",
       "1             Tirana         4536.0  ...               56.9   \n",
       "2            Algiers       150006.0  ...               28.1   \n",
       "3   Andorra la Vella          469.0  ...               36.4   \n",
       "4             Luanda        34693.0  ...               33.4   \n",
       "\n",
       "   physicians_per_thousand  population  pop_labor_force_participation_pct  \\\n",
       "0                     0.28  38041754.0                               48.9   \n",
       "1                     1.20   2854191.0                               55.7   \n",
       "2                     1.72  43053054.0                               41.2   \n",
       "3                     3.33     77142.0                                NaN   \n",
       "4                     0.21  31825295.0                               77.5   \n",
       "\n",
       "   tax_revenue_pct  total_tax_rate  unemployment_rate  urban_population  \\\n",
       "0              9.3            71.4              11.12         9797273.0   \n",
       "1             18.6            36.6              12.33         1747593.0   \n",
       "2             37.2            66.1              11.70        31510100.0   \n",
       "3              NaN             NaN                NaN           67873.0   \n",
       "4              9.2            49.1               6.89        21061025.0   \n",
       "\n",
       "    latitude  longitude  \n",
       "0  33.939110  67.709953  \n",
       "1  41.153332  20.168331  \n",
       "2  28.033886   1.659626  \n",
       "3  42.506285   1.521801  \n",
       "4 -11.202692  17.873887  \n",
       "\n",
       "[5 rows x 35 columns]"
      ]
     },
     "execution_count": 2,
     "metadata": {},
     "output_type": "execute_result"
    }
   ],
   "source": [
    "countries = pd.read_csv('countries.csv')\n",
    "\n",
    "countries.head(5)"
   ]
  },
  {
   "cell_type": "markdown",
   "id": "60e15ce4-995b-4c2e-90c0-54945f078c70",
   "metadata": {},
   "source": [
    "#### Let's look at the carbon dioxide emissions feature. First, compute the descriptive statistics."
   ]
  },
  {
   "cell_type": "code",
   "execution_count": 3,
   "id": "5815d5bb-98d9-4eea-a5c4-f91e1c4d4a89",
   "metadata": {
    "scrolled": true
   },
   "outputs": [
    {
     "name": "stdout",
     "output_type": "stream",
     "text": [
      "count    1.880000e+02\n",
      "mean     1.777992e+05\n",
      "std      8.387903e+05\n",
      "min      1.100000e+01\n",
      "25%      2.304250e+03\n",
      "50%      1.230300e+04\n",
      "75%      6.388425e+04\n",
      "max      9.893038e+06\n",
      "Name: co2_emissions, dtype: float64\n"
     ]
    }
   ],
   "source": [
    "# descriptive statistics of co2_emissions\n",
    "print(countries['co2_emissions'].describe())"
   ]
  },
  {
   "cell_type": "markdown",
   "id": "f17c73ad-ce40-45cf-981a-570d4f5e409e",
   "metadata": {},
   "source": [
    "#### There are orders of magnitude difference between the minimum and maximum.\n",
    "#### Are there any missing values in the co2_emissions column?"
   ]
  },
  {
   "cell_type": "code",
   "execution_count": 4,
   "id": "c34d7ac8-0cb6-4a80-8064-c80e596eec8e",
   "metadata": {},
   "outputs": [
    {
     "name": "stdout",
     "output_type": "stream",
     "text": [
      "7\n",
      "3.5897435897435894\n"
     ]
    }
   ],
   "source": [
    "# compute number of missing values in co2_emissions column\n",
    "print(countries['co2_emissions'].isna().sum())\n",
    "\n",
    "# compute percentage of missing values in co2_emissions column\n",
    "print(countries['co2_emissions'].isna().mean() * 100)"
   ]
  },
  {
   "cell_type": "markdown",
   "id": "381fa8a6-5d03-4829-940d-53bb617cecb5",
   "metadata": {},
   "source": [
    "#### 7 countries (3.6% of all entries) have missing values. Which countries?"
   ]
  },
  {
   "cell_type": "code",
   "execution_count": 5,
   "id": "ccef73a7-24be-4a5c-9811-7267cda0bbc6",
   "metadata": {},
   "outputs": [
    {
     "data": {
      "text/html": [
       "<div>\n",
       "<style scoped>\n",
       "    .dataframe tbody tr th:only-of-type {\n",
       "        vertical-align: middle;\n",
       "    }\n",
       "\n",
       "    .dataframe tbody tr th {\n",
       "        vertical-align: top;\n",
       "    }\n",
       "\n",
       "    .dataframe thead th {\n",
       "        text-align: right;\n",
       "    }\n",
       "</style>\n",
       "<table border=\"1\" class=\"dataframe\">\n",
       "  <thead>\n",
       "    <tr style=\"text-align: right;\">\n",
       "      <th></th>\n",
       "      <th>country</th>\n",
       "      <th>co2_emissions</th>\n",
       "    </tr>\n",
       "  </thead>\n",
       "  <tbody>\n",
       "    <tr>\n",
       "      <th>56</th>\n",
       "      <td>Eswatini</td>\n",
       "      <td>NaN</td>\n",
       "    </tr>\n",
       "    <tr>\n",
       "      <th>73</th>\n",
       "      <td>Vatican City</td>\n",
       "      <td>NaN</td>\n",
       "    </tr>\n",
       "    <tr>\n",
       "      <th>113</th>\n",
       "      <td>Monaco</td>\n",
       "      <td>NaN</td>\n",
       "    </tr>\n",
       "    <tr>\n",
       "      <th>120</th>\n",
       "      <td>Nauru</td>\n",
       "      <td>NaN</td>\n",
       "    </tr>\n",
       "    <tr>\n",
       "      <th>128</th>\n",
       "      <td>North Macedonia</td>\n",
       "      <td>NaN</td>\n",
       "    </tr>\n",
       "    <tr>\n",
       "      <th>133</th>\n",
       "      <td>Palestinian National Authority</td>\n",
       "      <td>NaN</td>\n",
       "    </tr>\n",
       "    <tr>\n",
       "      <th>149</th>\n",
       "      <td>San Marino</td>\n",
       "      <td>NaN</td>\n",
       "    </tr>\n",
       "  </tbody>\n",
       "</table>\n",
       "</div>"
      ],
      "text/plain": [
       "                            country  co2_emissions\n",
       "56                         Eswatini            NaN\n",
       "73                     Vatican City            NaN\n",
       "113                          Monaco            NaN\n",
       "120                           Nauru            NaN\n",
       "128                 North Macedonia            NaN\n",
       "133  Palestinian National Authority            NaN\n",
       "149                      San Marino            NaN"
      ]
     },
     "execution_count": 5,
     "metadata": {},
     "output_type": "execute_result"
    }
   ],
   "source": [
    "# Which countries have no values in the co2_emissions column?\n",
    "countries[countries['co2_emissions'].isna()][['country', 'co2_emissions']]"
   ]
  },
  {
   "cell_type": "markdown",
   "id": "6946526a-d201-472a-9341-c8eff3f068dc",
   "metadata": {},
   "source": [
    "#### Now let's look at the Population feature. Compute descriptive statistics."
   ]
  },
  {
   "cell_type": "code",
   "execution_count": 6,
   "id": "542d7730-acef-43f7-b4d8-2c66789630d2",
   "metadata": {},
   "outputs": [
    {
     "name": "stdout",
     "output_type": "stream",
     "text": [
      "count    1.940000e+02\n",
      "mean     3.938116e+07\n",
      "std      1.450924e+08\n",
      "min      8.360000e+02\n",
      "25%      1.962678e+06\n",
      "50%      8.826588e+06\n",
      "75%      2.858549e+07\n",
      "max      1.397715e+09\n",
      "Name: population, dtype: float64\n"
     ]
    }
   ],
   "source": [
    "# descriptive statistics of population\n",
    "print(countries['population'].describe())"
   ]
  },
  {
   "cell_type": "markdown",
   "id": "c1506b4c-2be9-4048-9140-6cc8bfdc2902",
   "metadata": {},
   "source": [
    "#### There are orders of magnitude difference between the minimum and maximum.\n",
    "#### Does Population have any missing values?"
   ]
  },
  {
   "cell_type": "code",
   "execution_count": 7,
   "id": "a6626ca6-3d4a-4cdb-a237-ce3dd9ffc467",
   "metadata": {},
   "outputs": [
    {
     "name": "stdout",
     "output_type": "stream",
     "text": [
      "1\n",
      "0.5128205128205128\n"
     ]
    }
   ],
   "source": [
    "# compute number of missing values in population column\n",
    "print(countries['population'].isna().sum())\n",
    "\n",
    "# compute percentage of missing values in population column\n",
    "print(countries['population'].isna().mean() * 100)"
   ]
  },
  {
   "cell_type": "markdown",
   "id": "067cf208-1dd0-48f0-87f9-da04ac9d7e8d",
   "metadata": {},
   "source": [
    "#### Population has 1 missing value. Which country?"
   ]
  },
  {
   "cell_type": "code",
   "execution_count": 8,
   "id": "1713ecf0-8000-4b57-bcb2-7e99f63ad64b",
   "metadata": {},
   "outputs": [
    {
     "data": {
      "text/html": [
       "<div>\n",
       "<style scoped>\n",
       "    .dataframe tbody tr th:only-of-type {\n",
       "        vertical-align: middle;\n",
       "    }\n",
       "\n",
       "    .dataframe tbody tr th {\n",
       "        vertical-align: top;\n",
       "    }\n",
       "\n",
       "    .dataframe thead th {\n",
       "        text-align: right;\n",
       "    }\n",
       "</style>\n",
       "<table border=\"1\" class=\"dataframe\">\n",
       "  <thead>\n",
       "    <tr style=\"text-align: right;\">\n",
       "      <th></th>\n",
       "      <th>country</th>\n",
       "      <th>population</th>\n",
       "    </tr>\n",
       "  </thead>\n",
       "  <tbody>\n",
       "    <tr>\n",
       "      <th>133</th>\n",
       "      <td>Palestinian National Authority</td>\n",
       "      <td>NaN</td>\n",
       "    </tr>\n",
       "  </tbody>\n",
       "</table>\n",
       "</div>"
      ],
      "text/plain": [
       "                            country  population\n",
       "133  Palestinian National Authority         NaN"
      ]
     },
     "execution_count": 8,
     "metadata": {},
     "output_type": "execute_result"
    }
   ],
   "source": [
    "# Which countries have no values in the population column?\n",
    "countries[countries['population'].isna()][['country', 'population']]"
   ]
  },
  {
   "cell_type": "markdown",
   "id": "c64c97f7-0438-44c4-88b7-afb769391a14",
   "metadata": {},
   "source": [
    "#### Palestinian National Authority lacks data for population.\n",
    "#### 3.6% of countries have missing values in the co2_emissions column. The percentage is small enough that removing these entries shouldn't have a significant effect on the exploratory data analysis. "
   ]
  },
  {
   "cell_type": "code",
   "execution_count": 9,
   "id": "ed21d601-c27a-4b8b-aa5c-aef77d0ac0fa",
   "metadata": {},
   "outputs": [],
   "source": [
    "# drop entries with missing values in the co2_emissions column\n",
    "countries = countries.dropna(subset=['co2_emissions'])"
   ]
  },
  {
   "cell_type": "code",
   "execution_count": 10,
   "id": "aa995e21-fad2-46d0-8906-2b7e9a246a59",
   "metadata": {},
   "outputs": [
    {
     "data": {
      "text/plain": [
       "(188, 35)"
      ]
     },
     "execution_count": 10,
     "metadata": {},
     "output_type": "execute_result"
    }
   ],
   "source": [
    "# verify the data frame dropped 7 entries\n",
    "countries.shape"
   ]
  },
  {
   "cell_type": "code",
   "execution_count": 11,
   "id": "bf0a0d58-f706-46fb-bbe3-0b0a406aa4ad",
   "metadata": {},
   "outputs": [
    {
     "name": "stdout",
     "output_type": "stream",
     "text": [
      "0\n"
     ]
    }
   ],
   "source": [
    "# verify there are no missing values in co2_emissions column\n",
    "print(countries['co2_emissions'].isna().sum())"
   ]
  },
  {
   "cell_type": "markdown",
   "id": "3ef09109-0ac5-463e-8e75-06f2433fd3f3",
   "metadata": {},
   "source": [
    "#### A histogram will show the data distribution of carbon dioxide emissions."
   ]
  },
  {
   "cell_type": "code",
   "execution_count": 12,
   "id": "075e814f-0507-45a9-996e-f44ffaf09974",
   "metadata": {},
   "outputs": [
    {
     "data": {
      "text/plain": [
       "<function matplotlib.pyplot.show(close=None, block=None)>"
      ]
     },
     "execution_count": 12,
     "metadata": {},
     "output_type": "execute_result"
    },
    {
     "data": {
      "image/png": "[encoded data removed]",
      "text/plain": [
       "<Figure size 640x480 with 1 Axes>"
      ]
     },
     "metadata": {},
     "output_type": "display_data"
    }
   ],
   "source": [
    "# plot histogram of co2_emissions\n",
    "plt.hist(countries['co2_emissions'])\n",
    "plt.title('Histogram of CO2 Emissions')\n",
    "plt.xlabel('CO2 Emissions')\n",
    "plt.ylabel('Frequency of Countries')\n",
    "plt.show"
   ]
  },
  {
   "cell_type": "markdown",
   "id": "a3dbe0d2-4092-4f69-9dec-902ec19e1bb8",
   "metadata": {},
   "source": [
    "#### Carbon dioxide emissions data is right-skewed. A few countries have large amounts of carbon dioxide emissions. \n",
    "#### What does the histogram of the Population feature look like?"
   ]
  },
  {
   "cell_type": "code",
   "execution_count": 13,
   "id": "694c2507-ca0f-4008-8300-f2b7d73c1451",
   "metadata": {},
   "outputs": [
    {
     "data": {
      "text/plain": [
       "<function matplotlib.pyplot.show(close=None, block=None)>"
      ]
     },
     "execution_count": 13,
     "metadata": {},
     "output_type": "execute_result"
    },
    {
     "data": {
      "image/png": "[encoded data removed]",
      "text/plain": [
       "<Figure size 640x480 with 1 Axes>"
      ]
     },
     "metadata": {},
     "output_type": "display_data"
    }
   ],
   "source": [
    "# plot histogram of population\n",
    "plt.hist(countries['population'])\n",
    "plt.title('Histogram of Population')\n",
    "plt.xlabel('Population')\n",
    "plt.ylabel('Frequency of Countries')\n",
    "plt.show"
   ]
  },
  {
   "cell_type": "markdown",
   "id": "4bd8be88-29cd-43a3-b536-efd11876b6a9",
   "metadata": {},
   "source": [
    "#### Population data is also right-skewed with a few countries having very large populations.\n",
    "#### A scatter plot with a linear regression line would show the relationship between population and carbon dioxide emissions."
   ]
  },
  {
   "cell_type": "code",
   "execution_count": 14,
   "id": "0517ac62-e3c4-4608-a52a-0a18985ed018",
   "metadata": {},
   "outputs": [
    {
     "data": {
      "text/plain": [
       "<seaborn.axisgrid.FacetGrid at 0x11d26820d50>"
      ]
     },
     "execution_count": 14,
     "metadata": {},
     "output_type": "execute_result"
    },
    {
     "data": {
      "image/png": "[encoded data removed]",
      "text/plain": [
       "<Figure size 500x500 with 1 Axes>"
      ]
     },
     "metadata": {},
     "output_type": "display_data"
    }
   ],
   "source": [
    "# with linear regression line\n",
    "sns.lmplot(data=countries, x='population', y='co2_emissions')"
   ]
  },
  {
   "cell_type": "markdown",
   "id": "3bb81763-4730-4193-a8e3-e7c4781098c5",
   "metadata": {},
   "source": [
    "#### The scatter plot shows a strong positive correlation. As population increases, carbon dioxide emissions also tend to increase.\n",
    "#### As expected from the histograms, most data points lie on the low ends of the axes with just a few points on the large ends of the axes. Log-scaling both axes would make it easier to see the small values."
   ]
  },
  {
   "cell_type": "code",
   "execution_count": 15,
   "id": "28da904e-246d-40e6-9266-5d8e20637495",
   "metadata": {},
   "outputs": [],
   "source": [
    "# Log Transformation \n",
    "countries['log_population'] = np.log(countries['population'])\n",
    "countries['log_co2_emissions'] = np.log(countries['co2_emissions'])\n",
    "#countries[['log_population', 'log_co2_emissions']].head()"
   ]
  },
  {
   "cell_type": "code",
   "execution_count": 16,
   "id": "ddc76f07-fa32-4305-9396-fed4cf0efdb3",
   "metadata": {},
   "outputs": [
    {
     "data": {
      "text/plain": [
       "<seaborn.axisgrid.FacetGrid at 0x11d269b9410>"
      ]
     },
     "execution_count": 16,
     "metadata": {},
     "output_type": "execute_result"
    },
    {
     "data": {
      "image/png": "[encoded data removed]",
      "text/plain": [
       "<Figure size 500x500 with 1 Axes>"
      ]
     },
     "metadata": {},
     "output_type": "display_data"
    }
   ],
   "source": [
    "# scatterplot with linear regression line\n",
    "sns.lmplot(data=countries, x='log_population',\n",
    "           y='log_co2_emissions',\n",
    "           scatter_kws={'alpha': 0.5},\n",
    "           line_kws={'color': 'crimson'})"
   ]
  },
  {
   "cell_type": "markdown",
   "id": "4c7dbafd-0d57-40ba-a12a-de0a8efbf716",
   "metadata": {},
   "source": [
    "#### The log scaling makes it easier to see all data points and the positive correlation.\n",
    "#### What is the correlation?"
   ]
  },
  {
   "cell_type": "code",
   "execution_count": 17,
   "id": "8c4bbe6b-0f17-41ee-8e60-fefc376bcac6",
   "metadata": {},
   "outputs": [
    {
     "data": {
      "text/plain": [
       "0.7997478579303685"
      ]
     },
     "execution_count": 17,
     "metadata": {},
     "output_type": "execute_result"
    }
   ],
   "source": [
    "# compute correlation\n",
    "log_pop_co2_correlation = countries['log_population'].corr(countries['log_co2_emissions'])\n",
    "log_pop_co2_correlation"
   ]
  },
  {
   "cell_type": "markdown",
   "id": "eda4e1d7-cb35-400d-ba2c-96f9a85c1da1",
   "metadata": {},
   "source": [
    "#### There is a high correlation between population and carbon dioxide emissions.\n",
    "#### Now let's look at carbon dioxide emissions per 1,000 people. Add a new column for CO2_per_1000capita, compute descriptive statistics, and plot a histogram."
   ]
  },
  {
   "cell_type": "code",
   "execution_count": 18,
   "id": "d0f83bc8-1608-4d7a-b459-ae25d6f4d518",
   "metadata": {},
   "outputs": [],
   "source": [
    "# create new co2_per_1000capita feature\n",
    "countries['co2_per_1000capita'] = countries['co2_emissions'] / countries['population'] * 1000"
   ]
  },
  {
   "cell_type": "code",
   "execution_count": 19,
   "id": "c46c322a-8f87-41b4-a891-03e7c58c9f45",
   "metadata": {},
   "outputs": [
    {
     "name": "stdout",
     "output_type": "stream",
     "text": [
      "count    188.000000\n",
      "mean       4.219642\n",
      "std        5.369097\n",
      "min        0.023286\n",
      "25%        0.630123\n",
      "50%        2.440754\n",
      "75%        5.740800\n",
      "max       36.460649\n",
      "Name: co2_per_1000capita, dtype: float64\n"
     ]
    }
   ],
   "source": [
    "print(countries['co2_per_1000capita'].describe())"
   ]
  },
  {
   "cell_type": "code",
   "execution_count": 20,
   "id": "6ae1e8f4-3bd9-4669-9fbd-7950da03255c",
   "metadata": {},
   "outputs": [
    {
     "data": {
      "image/png": "[encoded data removed]",
      "text/plain": [
       "<Figure size 640x480 with 1 Axes>"
      ]
     },
     "metadata": {},
     "output_type": "display_data"
    }
   ],
   "source": [
    "# histogram of carbon dioxide emissions per 1,000 people\n",
    "plt.hist(countries['co2_per_1000capita'])\n",
    "plt.title('Histogram of CO2 Emissions per 1000 People')\n",
    "plt.xlabel('CO2 Emissions per 1000 People')\n",
    "plt.ylabel('Frequency of Countries')\n",
    "plt.show()"
   ]
  },
  {
   "cell_type": "markdown",
   "id": "746c1811-fb27-46c5-84ae-9178a7efb48f",
   "metadata": {},
   "source": [
    "#### This histogram is right-skewed. Some countries have very high carbon dioxide emissions per 1,000 people.\n",
    "#### A box plot will provide another perspective on this feature by showing us the quartiles, interquartile range, and outliers."
   ]
  },
  {
   "cell_type": "code",
   "execution_count": 21,
   "id": "bfb7c698-934f-4787-ad67-6b473f299867",
   "metadata": {},
   "outputs": [
    {
     "data": {
      "image/png": "[encoded data removed]",
      "text/plain": [
       "<Figure size 640x480 with 1 Axes>"
      ]
     },
     "metadata": {},
     "output_type": "display_data"
    }
   ],
   "source": [
    "# box plot of carbon dioxide emissions per 1,000 people\n",
    "plt.boxplot(countries['co2_per_1000capita'])\n",
    "plt.title('Box Plot of CO2 Emissions per 1000 People')\n",
    "plt.xlabel('Country')\n",
    "plt.ylabel('CO2 Emissions per 1000 People')\n",
    "plt.show()"
   ]
  },
  {
   "cell_type": "markdown",
   "id": "3fbef4a4-c341-4a12-95f1-5b28358b901c",
   "metadata": {},
   "source": [
    "#### The outliers are displayed in the box plot. Which countries are the outliers? Calculate the interquartile range and the lower and upper outlier bounds."
   ]
  },
  {
   "cell_type": "code",
   "execution_count": 22,
   "id": "5057cb30-c76c-4628-90f0-af837c015c8d",
   "metadata": {},
   "outputs": [
    {
     "name": "stdout",
     "output_type": "stream",
     "text": [
      "                  country  co2_per_1000capita\n",
      "141                 Qatar           36.460649\n",
      "177   Trinidad and Tobago           31.447204\n",
      "90                 Kuwait           23.468517\n",
      "184  United Arab Emirates           21.116973\n",
      "12                Bahrain           21.106327\n",
      "24                 Brunei           17.688127\n",
      "151          Saudi Arabia           16.442171\n",
      "186         United States           15.251978\n",
      "32                 Canada           14.730057\n",
      "8               Australia           14.588961\n",
      "100            Luxembourg           13.926312\n"
     ]
    }
   ],
   "source": [
    "# determine which countries are outliers\n",
    "\n",
    "# calculate interquartile range\n",
    "Q1 = countries['co2_per_1000capita'].quantile(0.25)  # first quartile\n",
    "Q3 = countries['co2_per_1000capita'].quantile(0.75)  # third quartile\n",
    "IQR = Q3 - Q1  # interquartile range\n",
    "\n",
    "# determine outlier thresholds\n",
    "lower_bound = Q1 - 1.5 * IQR\n",
    "upper_bound = Q3 + 1.5 * IQR\n",
    "\n",
    "# filter outliers\n",
    "outliers = countries[\n",
    "    (countries['co2_per_1000capita'] < lower_bound) |\n",
    "    (countries['co2_per_1000capita'] > upper_bound)\n",
    "]\n",
    "\n",
    "# print outlier countries and their co2_per_1000capita, sorted by co2_per_1000capita descending\n",
    "print(outliers[['country', 'co2_per_1000capita']].sort_values(by='co2_per_1000capita', ascending=False))"
   ]
  },
  {
   "cell_type": "markdown",
   "id": "76a7fcc8-499c-4443-a5d9-28456cce0389",
   "metadata": {},
   "source": [
    "#### 11 countries are outliers with high carbon dioxide emissions per 1,000 people.\n",
    "#### Use Plotly to visualize these countries on a map with a color scale representing the amount of carbon dioxide emissions per 1,000 people."
   ]
  },
  {
   "cell_type": "code",
   "execution_count": 32,
   "id": "bf816e97-aa55-48c1-acc4-09da5439f06f",
   "metadata": {
    "scrolled": true
   },
   "outputs": [
    {
     "data": {
      "application/vnd.plotly.v1+json": {
       "config": {
        "plotlyServerURL": "https://plot.ly"
       },
       "data": [
        {
         "coloraxis": "coloraxis",
         "geo": "geo",
         "hovertemplate": "<b>%{hovertext}</b><br><br>country=%{location}<br>co2_per_1000capita=%{z}<extra></extra>",
         "hovertext": [
          "Australia",
          "Bahrain",
          "Brunei",
          "Canada",
          "Kuwait",
          "Luxembourg",
          "Qatar",
          "Saudi Arabia",
          "Trinidad and Tobago",
          "United Arab Emirates",
          "United States"
         ],
         "locationmode": "country names",
         "locations": [
          "Australia",
          "Bahrain",
          "Brunei",
          "Canada",
          "Kuwait",
          "Luxembourg",
          "Qatar",
          "Saudi Arabia",
          "Trinidad and Tobago",
          "United Arab Emirates",
          "United States"
         ],
         "name": "",
         "type": "choropleth",
         "z": [
          14.588961176685869,
          21.106327436427627,
          17.688126752599327,
          14.730057306203742,
          23.46851726005881,
          13.926312021902797,
          36.46064870640419,
          16.44217107895618,
          31.447203637633127,
          21.11697329796575,
          15.251978050187454
         ]
        }
       ],
       "layout": {
        "coloraxis": {
         "colorbar": {
          "title": {
           "text": "CO₂ per 1,000 people"
          }
         },
         "colorscale": [
          [
           0,
           "rgb(255,255,204)"
          ],
          [
           0.125,
           "rgb(255,237,160)"
          ],
          [
           0.25,
           "rgb(254,217,118)"
          ],
          [
           0.375,
           "rgb(254,178,76)"
          ],
          [
           0.5,
           "rgb(253,141,60)"
          ],
          [
           0.625,
           "rgb(252,78,42)"
          ],
          [
           0.75,
           "rgb(227,26,28)"
          ],
          [
           0.875,
           "rgb(189,0,38)"
          ],
          [
           1,
           "rgb(128,0,38)"
          ]
         ]
        },
        "geo": {
         "center": {},
         "domain": {
          "x": [
           0,
           1
          ],
          "y": [
           0,
           1
          ]
         },
         "projection": {
          "type": "equirectangular"
         },
         "showcoastlines": true,
         "showframe": false
        },
        "height": 600,
        "legend": {
         "tracegroupgap": 0
        },
        "margin": {
         "b": 0,
         "l": 0,
         "r": 0,
         "t": 50
        },
        "template": {
         "data": {
          "bar": [
           {
            "error_x": {
             "color": "#2a3f5f"
            },
            "error_y": {
             "color": "#2a3f5f"
            },
            "marker": {
             "line": {
              "color": "#E5ECF6",
              "width": 0.5
             },
             "pattern": {
              "fillmode": "overlay",
              "size": 10,
              "solidity": 0.2
             }
            },
            "type": "bar"
           }
          ],
          "barpolar": [
           {
            "marker": {
             "line": {
              "color": "#E5ECF6",
              "width": 0.5
             },
             "pattern": {
              "fillmode": "overlay",
              "size": 10,
              "solidity": 0.2
             }
            },
            "type": "barpolar"
           }
          ],
          "carpet": [
           {
            "aaxis": {
             "endlinecolor": "#2a3f5f",
             "gridcolor": "white",
             "linecolor": "white",
             "minorgridcolor": "white",
             "startlinecolor": "#2a3f5f"
            },
            "baxis": {
             "endlinecolor": "#2a3f5f",
             "gridcolor": "white",
             "linecolor": "white",
             "minorgridcolor": "white",
             "startlinecolor": "#2a3f5f"
            },
            "type": "carpet"
           }
          ],
          "choropleth": [
           {
            "colorbar": {
             "outlinewidth": 0,
             "ticks": ""
            },
            "type": "choropleth"
           }
          ],
          "contour": [
           {
            "colorbar": {
             "outlinewidth": 0,
             "ticks": ""
            },
            "colorscale": [
             [
              0,
              "#0d0887"
             ],
             [
              0.1111111111111111,
              "#46039f"
             ],
             [
              0.2222222222222222,
              "#7201a8"
             ],
             [
              0.3333333333333333,
              "#9c179e"
             ],
             [
              0.4444444444444444,
              "#bd3786"
             ],
             [
              0.5555555555555556,
              "#d8576b"
             ],
             [
              0.6666666666666666,
              "#ed7953"
             ],
             [
              0.7777777777777778,
              "#fb9f3a"
             ],
             [
              0.8888888888888888,
              "#fdca26"
             ],
             [
              1,
              "#f0f921"
             ]
            ],
            "type": "contour"
           }
          ],
          "contourcarpet": [
           {
            "colorbar": {
             "outlinewidth": 0,
             "ticks": ""
            },
            "type": "contourcarpet"
           }
          ],
          "heatmap": [
           {
            "colorbar": {
             "outlinewidth": 0,
             "ticks": ""
            },
            "colorscale": [
             [
              0,
              "#0d0887"
             ],
             [
              0.1111111111111111,
              "#46039f"
             ],
             [
              0.2222222222222222,
              "#7201a8"
             ],
             [
              0.3333333333333333,
              "#9c179e"
             ],
             [
              0.4444444444444444,
              "#bd3786"
             ],
             [
              0.5555555555555556,
              "#d8576b"
             ],
             [
              0.6666666666666666,
              "#ed7953"
             ],
             [
              0.7777777777777778,
              "#fb9f3a"
             ],
             [
              0.8888888888888888,
              "#fdca26"
             ],
             [
              1,
              "#f0f921"
             ]
            ],
            "type": "heatmap"
           }
          ],
          "heatmapgl": [
           {
            "colorbar": {
             "outlinewidth": 0,
             "ticks": ""
            },
            "colorscale": [
             [
              0,
              "#0d0887"
             ],
             [
              0.1111111111111111,
              "#46039f"
             ],
             [
              0.2222222222222222,
              "#7201a8"
             ],
             [
              0.3333333333333333,
              "#9c179e"
             ],
             [
              0.4444444444444444,
              "#bd3786"
             ],
             [
              0.5555555555555556,
              "#d8576b"
             ],
             [
              0.6666666666666666,
              "#ed7953"
             ],
             [
              0.7777777777777778,
              "#fb9f3a"
             ],
             [
              0.8888888888888888,
              "#fdca26"
             ],
             [
              1,
              "#f0f921"
             ]
            ],
            "type": "heatmapgl"
           }
          ],
          "histogram": [
           {
            "marker": {
             "pattern": {
              "fillmode": "overlay",
              "size": 10,
              "solidity": 0.2
             }
            },
            "type": "histogram"
           }
          ],
          "histogram2d": [
           {
            "colorbar": {
             "outlinewidth": 0,
             "ticks": ""
            },
            "colorscale": [
             [
              0,
              "#0d0887"
             ],
             [
              0.1111111111111111,
              "#46039f"
             ],
             [
              0.2222222222222222,
              "#7201a8"
             ],
             [
              0.3333333333333333,
              "#9c179e"
             ],
             [
              0.4444444444444444,
              "#bd3786"
             ],
             [
              0.5555555555555556,
              "#d8576b"
             ],
             [
              0.6666666666666666,
              "#ed7953"
             ],
             [
              0.7777777777777778,
              "#fb9f3a"
             ],
             [
              0.8888888888888888,
              "#fdca26"
             ],
             [
              1,
              "#f0f921"
             ]
            ],
            "type": "histogram2d"
           }
          ],
          "histogram2dcontour": [
           {
            "colorbar": {
             "outlinewidth": 0,
             "ticks": ""
            },
            "colorscale": [
             [
              0,
              "#0d0887"
             ],
             [
              0.1111111111111111,
              "#46039f"
             ],
             [
              0.2222222222222222,
              "#7201a8"
             ],
             [
              0.3333333333333333,
              "#9c179e"
             ],
             [
              0.4444444444444444,
              "#bd3786"
             ],
             [
              0.5555555555555556,
              "#d8576b"
             ],
             [
              0.6666666666666666,
              "#ed7953"
             ],
             [
              0.7777777777777778,
              "#fb9f3a"
             ],
             [
              0.8888888888888888,
              "#fdca26"
             ],
             [
              1,
              "#f0f921"
             ]
            ],
            "type": "histogram2dcontour"
           }
          ],
          "mesh3d": [
           {
            "colorbar": {
             "outlinewidth": 0,
             "ticks": ""
            },
            "type": "mesh3d"
           }
          ],
          "parcoords": [
           {
            "line": {
             "colorbar": {
              "outlinewidth": 0,
              "ticks": ""
             }
            },
            "type": "parcoords"
           }
          ],
          "pie": [
           {
            "automargin": true,
            "type": "pie"
           }
          ],
          "scatter": [
           {
            "fillpattern": {
             "fillmode": "overlay",
             "size": 10,
             "solidity": 0.2
            },
            "type": "scatter"
           }
          ],
          "scatter3d": [
           {
            "line": {
             "colorbar": {
              "outlinewidth": 0,
              "ticks": ""
             }
            },
            "marker": {
             "colorbar": {
              "outlinewidth": 0,
              "ticks": ""
             }
            },
            "type": "scatter3d"
           }
          ],
          "scattercarpet": [
           {
            "marker": {
             "colorbar": {
              "outlinewidth": 0,
              "ticks": ""
             }
            },
            "type": "scattercarpet"
           }
          ],
          "scattergeo": [
           {
            "marker": {
             "colorbar": {
              "outlinewidth": 0,
              "ticks": ""
             }
            },
            "type": "scattergeo"
           }
          ],
          "scattergl": [
           {
            "marker": {
             "colorbar": {
              "outlinewidth": 0,
              "ticks": ""
             }
            },
            "type": "scattergl"
           }
          ],
          "scattermapbox": [
           {
            "marker": {
             "colorbar": {
              "outlinewidth": 0,
              "ticks": ""
             }
            },
            "type": "scattermapbox"
           }
          ],
          "scatterpolar": [
           {
            "marker": {
             "colorbar": {
              "outlinewidth": 0,
              "ticks": ""
             }
            },
            "type": "scatterpolar"
           }
          ],
          "scatterpolargl": [
           {
            "marker": {
             "colorbar": {
              "outlinewidth": 0,
              "ticks": ""
             }
            },
            "type": "scatterpolargl"
           }
          ],
          "scatterternary": [
           {
            "marker": {
             "colorbar": {
              "outlinewidth": 0,
              "ticks": ""
             }
            },
            "type": "scatterternary"
           }
          ],
          "surface": [
           {
            "colorbar": {
             "outlinewidth": 0,
             "ticks": ""
            },
            "colorscale": [
             [
              0,
              "#0d0887"
             ],
             [
              0.1111111111111111,
              "#46039f"
             ],
             [
              0.2222222222222222,
              "#7201a8"
             ],
             [
              0.3333333333333333,
              "#9c179e"
             ],
             [
              0.4444444444444444,
              "#bd3786"
             ],
             [
              0.5555555555555556,
              "#d8576b"
             ],
             [
              0.6666666666666666,
              "#ed7953"
             ],
             [
              0.7777777777777778,
              "#fb9f3a"
             ],
             [
              0.8888888888888888,
              "#fdca26"
             ],
             [
              1,
              "#f0f921"
             ]
            ],
            "type": "surface"
           }
          ],
          "table": [
           {
            "cells": {
             "fill": {
              "color": "#EBF0F8"
             },
             "line": {
              "color": "white"
             }
            },
            "header": {
             "fill": {
              "color": "#C8D4E3"
             },
             "line": {
              "color": "white"
             }
            },
            "type": "table"
           }
          ]
         },
         "layout": {
          "annotationdefaults": {
           "arrowcolor": "#2a3f5f",
           "arrowhead": 0,
           "arrowwidth": 1
          },
          "autotypenumbers": "strict",
          "coloraxis": {
           "colorbar": {
            "outlinewidth": 0,
            "ticks": ""
           }
          },
          "colorscale": {
           "diverging": [
            [
             0,
             "#8e0152"
            ],
            [
             0.1,
             "#c51b7d"
            ],
            [
             0.2,
             "#de77ae"
            ],
            [
             0.3,
             "#f1b6da"
            ],
            [
             0.4,
             "#fde0ef"
            ],
            [
             0.5,
             "#f7f7f7"
            ],
            [
             0.6,
             "#e6f5d0"
            ],
            [
             0.7,
             "#b8e186"
            ],
            [
             0.8,
             "#7fbc41"
            ],
            [
             0.9,
             "#4d9221"
            ],
            [
             1,
             "#276419"
            ]
           ],
           "sequential": [
            [
             0,
             "#0d0887"
            ],
            [
             0.1111111111111111,
             "#46039f"
            ],
            [
             0.2222222222222222,
             "#7201a8"
            ],
            [
             0.3333333333333333,
             "#9c179e"
            ],
            [
             0.4444444444444444,
             "#bd3786"
            ],
            [
             0.5555555555555556,
             "#d8576b"
            ],
            [
             0.6666666666666666,
             "#ed7953"
            ],
            [
             0.7777777777777778,
             "#fb9f3a"
            ],
            [
             0.8888888888888888,
             "#fdca26"
            ],
            [
             1,
             "#f0f921"
            ]
           ],
           "sequentialminus": [
            [
             0,
             "#0d0887"
            ],
            [
             0.1111111111111111,
             "#46039f"
            ],
            [
             0.2222222222222222,
             "#7201a8"
            ],
            [
             0.3333333333333333,
             "#9c179e"
            ],
            [
             0.4444444444444444,
             "#bd3786"
            ],
            [
             0.5555555555555556,
             "#d8576b"
            ],
            [
             0.6666666666666666,
             "#ed7953"
            ],
            [
             0.7777777777777778,
             "#fb9f3a"
            ],
            [
             0.8888888888888888,
             "#fdca26"
            ],
            [
             1,
             "#f0f921"
            ]
           ]
          },
          "colorway": [
           "#636efa",
           "#EF553B",
           "#00cc96",
           "#ab63fa",
           "#FFA15A",
           "#19d3f3",
           "#FF6692",
           "#B6E880",
           "#FF97FF",
           "#FECB52"
          ],
          "font": {
           "color": "#2a3f5f"
          },
          "geo": {
           "bgcolor": "white",
           "lakecolor": "white",
           "landcolor": "#E5ECF6",
           "showlakes": true,
           "showland": true,
           "subunitcolor": "white"
          },
          "hoverlabel": {
           "align": "left"
          },
          "hovermode": "closest",
          "mapbox": {
           "style": "light"
          },
          "paper_bgcolor": "white",
          "plot_bgcolor": "#E5ECF6",
          "polar": {
           "angularaxis": {
            "gridcolor": "white",
            "linecolor": "white",
            "ticks": ""
           },
           "bgcolor": "#E5ECF6",
           "radialaxis": {
            "gridcolor": "white",
            "linecolor": "white",
            "ticks": ""
           }
          },
          "scene": {
           "xaxis": {
            "backgroundcolor": "#E5ECF6",
            "gridcolor": "white",
            "gridwidth": 2,
            "linecolor": "white",
            "showbackground": true,
            "ticks": "",
            "zerolinecolor": "white"
           },
           "yaxis": {
            "backgroundcolor": "#E5ECF6",
            "gridcolor": "white",
            "gridwidth": 2,
            "linecolor": "white",
            "showbackground": true,
            "ticks": "",
            "zerolinecolor": "white"
           },
           "zaxis": {
            "backgroundcolor": "#E5ECF6",
            "gridcolor": "white",
            "gridwidth": 2,
            "linecolor": "white",
            "showbackground": true,
            "ticks": "",
            "zerolinecolor": "white"
           }
          },
          "shapedefaults": {
           "line": {
            "color": "#2a3f5f"
           }
          },
          "ternary": {
           "aaxis": {
            "gridcolor": "white",
            "linecolor": "white",
            "ticks": ""
           },
           "baxis": {
            "gridcolor": "white",
            "linecolor": "white",
            "ticks": ""
           },
           "bgcolor": "#E5ECF6",
           "caxis": {
            "gridcolor": "white",
            "linecolor": "white",
            "ticks": ""
           }
          },
          "title": {
           "x": 0.05
          },
          "xaxis": {
           "automargin": true,
           "gridcolor": "white",
           "linecolor": "white",
           "ticks": "",
           "title": {
            "standoff": 15
           },
           "zerolinecolor": "white",
           "zerolinewidth": 2
          },
          "yaxis": {
           "automargin": true,
           "gridcolor": "white",
           "linecolor": "white",
           "ticks": "",
           "title": {
            "standoff": 15
           },
           "zerolinecolor": "white",
           "zerolinewidth": 2
          }
         }
        },
        "title": {
         "font": {
          "size": 20
         },
         "text": "Outliers in CO₂ Emissions per Person",
         "x": 0.5,
         "xanchor": "center"
        },
        "width": 1000
       }
      },
      "image/png": "[encoded data removed]",
      "text/html": [
       "<div>                            <div id=\"6b69c4fd-2ac3-4d3e-a4ff-ebce3717b89b\" class=\"plotly-graph-div\" style=\"height:600px; width:1000px;\"></div>            <script type=\"text/javascript\">                require([\"plotly\"], function(Plotly) {                    window.PLOTLYENV=window.PLOTLYENV || {};                                    if (document.getElementById(\"6b69c4fd-2ac3-4d3e-a4ff-ebce3717b89b\")) {                    Plotly.newPlot(                        \"6b69c4fd-2ac3-4d3e-a4ff-ebce3717b89b\",                        [{\"coloraxis\":\"coloraxis\",\"geo\":\"geo\",\"hovertemplate\":\"<b>%{hovertext}</b><br><br>country=%{location}<br>co2_per_1000capita=%{z}<extra></extra>\",\"hovertext\":[\"Australia\",\"Bahrain\",\"Brunei\",\"Canada\",\"Kuwait\",\"Luxembourg\",\"Qatar\",\"Saudi Arabia\",\"Trinidad and Tobago\",\"United Arab Emirates\",\"United States\"],\"locationmode\":\"country names\",\"locations\":[\"Australia\",\"Bahrain\",\"Brunei\",\"Canada\",\"Kuwait\",\"Luxembourg\",\"Qatar\",\"Saudi Arabia\",\"Trinidad and Tobago\",\"United Arab Emirates\",\"United States\"],\"name\":\"\",\"z\":[14.588961176685869,21.106327436427627,17.688126752599327,14.730057306203742,23.46851726005881,13.926312021902797,36.46064870640419,16.44217107895618,31.447203637633127,21.11697329796575,15.251978050187454],\"type\":\"choropleth\"}],                        {\"template\":{\"data\":{\"histogram2dcontour\":[{\"type\":\"histogram2dcontour\",\"colorbar\":{\"outlinewidth\":0,\"ticks\":\"\"},\"colorscale\":[[0.0,\"#0d0887\"],[0.1111111111111111,\"#46039f\"],[0.2222222222222222,\"#7201a8\"],[0.3333333333333333,\"#9c179e\"],[0.4444444444444444,\"#bd3786\"],[0.5555555555555556,\"#d8576b\"],[0.6666666666666666,\"#ed7953\"],[0.7777777777777778,\"#fb9f3a\"],[0.8888888888888888,\"#fdca26\"],[1.0,\"#f0f921\"]]}],\"choropleth\":[{\"type\":\"choropleth\",\"colorbar\":{\"outlinewidth\":0,\"ticks\":\"\"}}],\"histogram2d\":[{\"type\":\"histogram2d\",\"colorbar\":{\"outlinewidth\":0,\"ticks\":\"\"},\"colorscale\":[[0.0,\"#0d0887\"],[0.1111111111111111,\"#46039f\"],[0.2222222222222222,\"#7201a8\"],[0.3333333333333333,\"#9c179e\"],[0.4444444444444444,\"#bd3786\"],[0.5555555555555556,\"#d8576b\"],[0.6666666666666666,\"#ed7953\"],[0.7777777777777778,\"#fb9f3a\"],[0.8888888888888888,\"#fdca26\"],[1.0,\"#f0f921\"]]}],\"heatmap\":[{\"type\":\"heatmap\",\"colorbar\":{\"outlinewidth\":0,\"ticks\":\"\"},\"colorscale\":[[0.0,\"#0d0887\"],[0.1111111111111111,\"#46039f\"],[0.2222222222222222,\"#7201a8\"],[0.3333333333333333,\"#9c179e\"],[0.4444444444444444,\"#bd3786\"],[0.5555555555555556,\"#d8576b\"],[0.6666666666666666,\"#ed7953\"],[0.7777777777777778,\"#fb9f3a\"],[0.8888888888888888,\"#fdca26\"],[1.0,\"#f0f921\"]]}],\"heatmapgl\":[{\"type\":\"heatmapgl\",\"colorbar\":{\"outlinewidth\":0,\"ticks\":\"\"},\"colorscale\":[[0.0,\"#0d0887\"],[0.1111111111111111,\"#46039f\"],[0.2222222222222222,\"#7201a8\"],[0.3333333333333333,\"#9c179e\"],[0.4444444444444444,\"#bd3786\"],[0.5555555555555556,\"#d8576b\"],[0.6666666666666666,\"#ed7953\"],[0.7777777777777778,\"#fb9f3a\"],[0.8888888888888888,\"#fdca26\"],[1.0,\"#f0f921\"]]}],\"contourcarpet\":[{\"type\":\"contourcarpet\",\"colorbar\":{\"outlinewidth\":0,\"ticks\":\"\"}}],\"contour\":[{\"type\":\"contour\",\"colorbar\":{\"outlinewidth\":0,\"ticks\":\"\"},\"colorscale\":[[0.0,\"#0d0887\"],[0.1111111111111111,\"#46039f\"],[0.2222222222222222,\"#7201a8\"],[0.3333333333333333,\"#9c179e\"],[0.4444444444444444,\"#bd3786\"],[0.5555555555555556,\"#d8576b\"],[0.6666666666666666,\"#ed7953\"],[0.7777777777777778,\"#fb9f3a\"],[0.8888888888888888,\"#fdca26\"],[1.0,\"#f0f921\"]]}],\"surface\":[{\"type\":\"surface\",\"colorbar\":{\"outlinewidth\":0,\"ticks\":\"\"},\"colorscale\":[[0.0,\"#0d0887\"],[0.1111111111111111,\"#46039f\"],[0.2222222222222222,\"#7201a8\"],[0.3333333333333333,\"#9c179e\"],[0.4444444444444444,\"#bd3786\"],[0.5555555555555556,\"#d8576b\"],[0.6666666666666666,\"#ed7953\"],[0.7777777777777778,\"#fb9f3a\"],[0.8888888888888888,\"#fdca26\"],[1.0,\"#f0f921\"]]}],\"mesh3d\":[{\"type\":\"mesh3d\",\"colorbar\":{\"outlinewidth\":0,\"ticks\":\"\"}}],\"scatter\":[{\"fillpattern\":{\"fillmode\":\"overlay\",\"size\":10,\"solidity\":0.2},\"type\":\"scatter\"}],\"parcoords\":[{\"type\":\"parcoords\",\"line\":{\"colorbar\":{\"outlinewidth\":0,\"ticks\":\"\"}}}],\"scatterpolargl\":[{\"type\":\"scatterpolargl\",\"marker\":{\"colorbar\":{\"outlinewidth\":0,\"ticks\":\"\"}}}],\"bar\":[{\"error_x\":{\"color\":\"#2a3f5f\"},\"error_y\":{\"color\":\"#2a3f5f\"},\"marker\":{\"line\":{\"color\":\"#E5ECF6\",\"width\":0.5},\"pattern\":{\"fillmode\":\"overlay\",\"size\":10,\"solidity\":0.2}},\"type\":\"bar\"}],\"scattergeo\":[{\"type\":\"scattergeo\",\"marker\":{\"colorbar\":{\"outlinewidth\":0,\"ticks\":\"\"}}}],\"scatterpolar\":[{\"type\":\"scatterpolar\",\"marker\":{\"colorbar\":{\"outlinewidth\":0,\"ticks\":\"\"}}}],\"histogram\":[{\"marker\":{\"pattern\":{\"fillmode\":\"overlay\",\"size\":10,\"solidity\":0.2}},\"type\":\"histogram\"}],\"scattergl\":[{\"type\":\"scattergl\",\"marker\":{\"colorbar\":{\"outlinewidth\":0,\"ticks\":\"\"}}}],\"scatter3d\":[{\"type\":\"scatter3d\",\"line\":{\"colorbar\":{\"outlinewidth\":0,\"ticks\":\"\"}},\"marker\":{\"colorbar\":{\"outlinewidth\":0,\"ticks\":\"\"}}}],\"scattermapbox\":[{\"type\":\"scattermapbox\",\"marker\":{\"colorbar\":{\"outlinewidth\":0,\"ticks\":\"\"}}}],\"scatterternary\":[{\"type\":\"scatterternary\",\"marker\":{\"colorbar\":{\"outlinewidth\":0,\"ticks\":\"\"}}}],\"scattercarpet\":[{\"type\":\"scattercarpet\",\"marker\":{\"colorbar\":{\"outlinewidth\":0,\"ticks\":\"\"}}}],\"carpet\":[{\"aaxis\":{\"endlinecolor\":\"#2a3f5f\",\"gridcolor\":\"white\",\"linecolor\":\"white\",\"minorgridcolor\":\"white\",\"startlinecolor\":\"#2a3f5f\"},\"baxis\":{\"endlinecolor\":\"#2a3f5f\",\"gridcolor\":\"white\",\"linecolor\":\"white\",\"minorgridcolor\":\"white\",\"startlinecolor\":\"#2a3f5f\"},\"type\":\"carpet\"}],\"table\":[{\"cells\":{\"fill\":{\"color\":\"#EBF0F8\"},\"line\":{\"color\":\"white\"}},\"header\":{\"fill\":{\"color\":\"#C8D4E3\"},\"line\":{\"color\":\"white\"}},\"type\":\"table\"}],\"barpolar\":[{\"marker\":{\"line\":{\"color\":\"#E5ECF6\",\"width\":0.5},\"pattern\":{\"fillmode\":\"overlay\",\"size\":10,\"solidity\":0.2}},\"type\":\"barpolar\"}],\"pie\":[{\"automargin\":true,\"type\":\"pie\"}]},\"layout\":{\"autotypenumbers\":\"strict\",\"colorway\":[\"#636efa\",\"#EF553B\",\"#00cc96\",\"#ab63fa\",\"#FFA15A\",\"#19d3f3\",\"#FF6692\",\"#B6E880\",\"#FF97FF\",\"#FECB52\"],\"font\":{\"color\":\"#2a3f5f\"},\"hovermode\":\"closest\",\"hoverlabel\":{\"align\":\"left\"},\"paper_bgcolor\":\"white\",\"plot_bgcolor\":\"#E5ECF6\",\"polar\":{\"bgcolor\":\"#E5ECF6\",\"angularaxis\":{\"gridcolor\":\"white\",\"linecolor\":\"white\",\"ticks\":\"\"},\"radialaxis\":{\"gridcolor\":\"white\",\"linecolor\":\"white\",\"ticks\":\"\"}},\"ternary\":{\"bgcolor\":\"#E5ECF6\",\"aaxis\":{\"gridcolor\":\"white\",\"linecolor\":\"white\",\"ticks\":\"\"},\"baxis\":{\"gridcolor\":\"white\",\"linecolor\":\"white\",\"ticks\":\"\"},\"caxis\":{\"gridcolor\":\"white\",\"linecolor\":\"white\",\"ticks\":\"\"}},\"coloraxis\":{\"colorbar\":{\"outlinewidth\":0,\"ticks\":\"\"}},\"colorscale\":{\"sequential\":[[0.0,\"#0d0887\"],[0.1111111111111111,\"#46039f\"],[0.2222222222222222,\"#7201a8\"],[0.3333333333333333,\"#9c179e\"],[0.4444444444444444,\"#bd3786\"],[0.5555555555555556,\"#d8576b\"],[0.6666666666666666,\"#ed7953\"],[0.7777777777777778,\"#fb9f3a\"],[0.8888888888888888,\"#fdca26\"],[1.0,\"#f0f921\"]],\"sequentialminus\":[[0.0,\"#0d0887\"],[0.1111111111111111,\"#46039f\"],[0.2222222222222222,\"#7201a8\"],[0.3333333333333333,\"#9c179e\"],[0.4444444444444444,\"#bd3786\"],[0.5555555555555556,\"#d8576b\"],[0.6666666666666666,\"#ed7953\"],[0.7777777777777778,\"#fb9f3a\"],[0.8888888888888888,\"#fdca26\"],[1.0,\"#f0f921\"]],\"diverging\":[[0,\"#8e0152\"],[0.1,\"#c51b7d\"],[0.2,\"#de77ae\"],[0.3,\"#f1b6da\"],[0.4,\"#fde0ef\"],[0.5,\"#f7f7f7\"],[0.6,\"#e6f5d0\"],[0.7,\"#b8e186\"],[0.8,\"#7fbc41\"],[0.9,\"#4d9221\"],[1,\"#276419\"]]},\"xaxis\":{\"gridcolor\":\"white\",\"linecolor\":\"white\",\"ticks\":\"\",\"title\":{\"standoff\":15},\"zerolinecolor\":\"white\",\"automargin\":true,\"zerolinewidth\":2},\"yaxis\":{\"gridcolor\":\"white\",\"linecolor\":\"white\",\"ticks\":\"\",\"title\":{\"standoff\":15},\"zerolinecolor\":\"white\",\"automargin\":true,\"zerolinewidth\":2},\"scene\":{\"xaxis\":{\"backgroundcolor\":\"#E5ECF6\",\"gridcolor\":\"white\",\"linecolor\":\"white\",\"showbackground\":true,\"ticks\":\"\",\"zerolinecolor\":\"white\",\"gridwidth\":2},\"yaxis\":{\"backgroundcolor\":\"#E5ECF6\",\"gridcolor\":\"white\",\"linecolor\":\"white\",\"showbackground\":true,\"ticks\":\"\",\"zerolinecolor\":\"white\",\"gridwidth\":2},\"zaxis\":{\"backgroundcolor\":\"#E5ECF6\",\"gridcolor\":\"white\",\"linecolor\":\"white\",\"showbackground\":true,\"ticks\":\"\",\"zerolinecolor\":\"white\",\"gridwidth\":2}},\"shapedefaults\":{\"line\":{\"color\":\"#2a3f5f\"}},\"annotationdefaults\":{\"arrowcolor\":\"#2a3f5f\",\"arrowhead\":0,\"arrowwidth\":1},\"geo\":{\"bgcolor\":\"white\",\"landcolor\":\"#E5ECF6\",\"subunitcolor\":\"white\",\"showland\":true,\"showlakes\":true,\"lakecolor\":\"white\"},\"title\":{\"x\":0.05},\"mapbox\":{\"style\":\"light\"}}},\"geo\":{\"domain\":{\"x\":[0.0,1.0],\"y\":[0.0,1.0]},\"center\":{},\"projection\":{\"type\":\"equirectangular\"},\"showframe\":false,\"showcoastlines\":true},\"coloraxis\":{\"colorbar\":{\"title\":{\"text\":\"CO\\u2082 per 1,000 people\"}},\"colorscale\":[[0.0,\"rgb(255,255,204)\"],[0.125,\"rgb(255,237,160)\"],[0.25,\"rgb(254,217,118)\"],[0.375,\"rgb(254,178,76)\"],[0.5,\"rgb(253,141,60)\"],[0.625,\"rgb(252,78,42)\"],[0.75,\"rgb(227,26,28)\"],[0.875,\"rgb(189,0,38)\"],[1.0,\"rgb(128,0,38)\"]]},\"legend\":{\"tracegroupgap\":0},\"title\":{\"text\":\"Outliers in CO\\u2082 Emissions per Person\",\"font\":{\"size\":20},\"x\":0.5,\"xanchor\":\"center\"},\"margin\":{\"l\":0,\"r\":0,\"t\":50,\"b\":0},\"width\":1000,\"height\":600},                        {\"responsive\": true}                    ).then(function(){\n",
       "                            \n",
       "var gd = document.getElementById('6b69c4fd-2ac3-4d3e-a4ff-ebce3717b89b');\n",
       "var x = new MutationObserver(function (mutations, observer) {{\n",
       "        var display = window.getComputedStyle(gd).display;\n",
       "        if (!display || display === 'none') {{\n",
       "            console.log([gd, 'removed!']);\n",
       "            Plotly.purge(gd);\n",
       "            observer.disconnect();\n",
       "        }}\n",
       "}});\n",
       "\n",
       "// Listen for the removal of the full notebook cells\n",
       "var notebookContainer = gd.closest('#notebook-container');\n",
       "if (notebookContainer) {{\n",
       "    x.observe(notebookContainer, {childList: true});\n",
       "}}\n",
       "\n",
       "// Listen for the clearing of the current output cell\n",
       "var outputEl = gd.closest('.output');\n",
       "if (outputEl) {{\n",
       "    x.observe(outputEl, {childList: true});\n",
       "}}\n",
       "\n",
       "                        })                };                });            </script>        </div>"
      ]
     },
     "metadata": {},
     "output_type": "display_data"
    }
   ],
   "source": [
    "# set up choropleth\n",
    "fig = px.choropleth(\n",
    "    outliers,\n",
    "    locations='country',\n",
    "    locationmode='country names',\n",
    "    color='co2_per_1000capita',\n",
    "    color_continuous_scale='YlOrRd',\n",
    "    hover_name='country',\n",
    "    title='Outliers in CO₂ Emissions per Person'\n",
    ")\n",
    "\n",
    "fig.update_layout(\n",
    "    geo=dict(\n",
    "        showframe=False,\n",
    "        showcoastlines=True,\n",
    "        projection_type='equirectangular'\n",
    "    ),\n",
    "    margin=dict(l=0, r=0, t=50, b=0),\n",
    "    \n",
    "    coloraxis_colorbar=dict(\n",
    "        title=\"CO₂ per 1,000 people\"\n",
    "    ),\n",
    "    \n",
    "    # Set custom figure size\n",
    "    width=1000, height=600,\n",
    "    \n",
    "    # Center the title\n",
    "    title=dict(  \n",
    "        x=0.5,  \n",
    "        xanchor='center',\n",
    "        font=dict(size=20)\n",
    "    )\n",
    ")\n",
    "\n",
    "fig.show()\n",
    "\n",
    "# save plot to .html file\n",
    "fig.write_html(\"plotly_choropleth.html\")"
   ]
  },
  {
   "cell_type": "markdown",
   "id": "d16e77e5-05cc-4ff0-bcde-3b4642bd0ae9",
   "metadata": {},
   "source": [
    "#### The above is an interactive map but cannot be rendered on GitHub. Check out the interactive map [here](https://mcfeenix.github.io/Exploratory-Data-Analysis-with-Python/plotly_choropleth.html).\n",
    "#### The top CO2 per capita emitting nations are geographically small and can only be seen while zoomed in. Additional work could focus on specific regions, such as the Middle East.\n",
    "#### Let's look at the GDP feature and see how it relates to carbon dioxide emissions and population. First, are there any missing values?"
   ]
  },
  {
   "cell_type": "code",
   "execution_count": 24,
   "id": "32bab8c6-8e7e-4ddd-97a1-3d135d18d0ea",
   "metadata": {},
   "outputs": [
    {
     "name": "stdout",
     "output_type": "stream",
     "text": [
      "0\n",
      "0.0\n"
     ]
    }
   ],
   "source": [
    "# Are there any missing values in the GDP column?\n",
    "\n",
    "# compute number of missing values in GDP column\n",
    "print(countries['gdp'].isna().sum())\n",
    "\n",
    "# compute percentage of missing values in GDP column\n",
    "print(countries['gdp'].isna().mean() * 100)"
   ]
  },
  {
   "cell_type": "markdown",
   "id": "3a613b4c-2c0a-43cf-8d08-0983c2aa7ce3",
   "metadata": {},
   "source": [
    "#### No missing values. Calculate the descriptive statistics and plot a histogram."
   ]
  },
  {
   "cell_type": "code",
   "execution_count": 25,
   "id": "4e7b405d-a483-4a72-8541-257ba58d8772",
   "metadata": {},
   "outputs": [
    {
     "name": "stdout",
     "output_type": "stream",
     "text": [
      "count    1.880000e+02\n",
      "mean     4.898678e+11\n",
      "std      2.199628e+12\n",
      "min      4.727146e+07\n",
      "25%      1.064606e+10\n",
      "50%      3.866727e+10\n",
      "75%      2.398869e+11\n",
      "max      2.142770e+13\n",
      "Name: gdp, dtype: float64\n"
     ]
    }
   ],
   "source": [
    "# descriptive statistics for GDP\n",
    "print(countries['gdp'].describe())"
   ]
  },
  {
   "cell_type": "code",
   "execution_count": 26,
   "id": "3fa626ea-d336-4ea9-8f20-289358928f12",
   "metadata": {},
   "outputs": [
    {
     "data": {
      "image/png": "[encoded data removed]",
      "text/plain": [
       "<Figure size 640x480 with 1 Axes>"
      ]
     },
     "metadata": {},
     "output_type": "display_data"
    }
   ],
   "source": [
    "# histogram of gdp\n",
    "plt.hist(countries['gdp'])\n",
    "plt.title('Histogram of GDP')\n",
    "plt.xlabel('GDP')\n",
    "plt.ylabel('Frequency of Countries')\n",
    "plt.show()"
   ]
  },
  {
   "cell_type": "markdown",
   "id": "7d098677-5c2a-4f25-8adf-2e77ca0dd83a",
   "metadata": {},
   "source": [
    "#### GDP is heavily right-skewed. Let's do a log transformation."
   ]
  },
  {
   "cell_type": "code",
   "execution_count": 27,
   "id": "9a912238-77ef-4539-84b1-daad208688f0",
   "metadata": {},
   "outputs": [],
   "source": [
    "# log transformation of gdp\n",
    "countries['log_gdp'] = np.log(countries['gdp'])"
   ]
  },
  {
   "cell_type": "markdown",
   "id": "5ebecc96-daec-4371-aefb-f51f10267e31",
   "metadata": {},
   "source": [
    "#### Create a Seaborn scatter plot to visualize the relationship between log(GDP), log(population), and log(co2 emissions)."
   ]
  },
  {
   "cell_type": "code",
   "execution_count": 28,
   "id": "61c531a7-856e-4e64-86ce-15e0b1c2f8fd",
   "metadata": {},
   "outputs": [
    {
     "data": {
      "image/png": "[encoded data removed]",
      "text/plain": [
       "<Figure size 640x480 with 1 Axes>"
      ]
     },
     "metadata": {},
     "output_type": "display_data"
    }
   ],
   "source": [
    "# scatterplot log(gdp) vs. log(population), with color representing log(co2 emissions)\n",
    "sns.scatterplot(\n",
    "    data=countries,\n",
    "    x='log_population',\n",
    "    y='log_gdp',\n",
    "    hue='log_co2_emissions',\n",
    "    palette='viridis',\n",
    "    edgecolor='black'\n",
    ")\n",
    "\n",
    "plt.title(\"Relationship between log(GDP), log(Population), and log(CO2 emissions)\")\n",
    "plt.xlabel(\"Log(Population)\")\n",
    "plt.ylabel(\"Log(Gross Domestic Product)\")\n",
    "plt.show()\n"
   ]
  },
  {
   "cell_type": "markdown",
   "id": "09bc685a-f8a6-4f7b-a08b-1caba8803e28",
   "metadata": {},
   "source": [
    "#### This plot looks good, but an interactive plot to identify countries by hovering would be better. Let's use Plotly to do this."
   ]
  },
  {
   "cell_type": "code",
   "execution_count": 29,
   "id": "bd49b9f8-687b-43ec-a420-1043b287811f",
   "metadata": {},
   "outputs": [
    {
     "data": {
      "application/vnd.plotly.v1+json": {
       "config": {
        "plotlyServerURL": "https://plot.ly"
       },
       "data": [
        {
         "hovertemplate": "<b>%{hovertext}</b><br><br>Log(Population)=%{x}<br>Log(Gross Domestic Product)=%{y}<br>Log(CO₂ Emissions)=%{marker.color}<extra></extra>",
         "hovertext": [
          "Afghanistan",
          "Albania",
          "Algeria",
          "Andorra",
          "Angola",
          "Antigua and Barbuda",
          "Argentina",
          "Armenia",
          "Australia",
          "Austria",
          "Azerbaijan",
          "The Bahamas",
          "Bahrain",
          "Bangladesh",
          "Barbados",
          "Belarus",
          "Belgium",
          "Belize",
          "Benin",
          "Bhutan",
          "Bolivia",
          "Bosnia and Herzegovina",
          "Botswana",
          "Brazil",
          "Brunei",
          "Bulgaria",
          "Burkina Faso",
          "Burundi",
          "Ivory Coast",
          "Cape Verde",
          "Cambodia",
          "Cameroon",
          "Canada",
          "Central African Republic",
          "Chad",
          "Chile",
          "China",
          "Colombia",
          "Comoros",
          "Republic of the Congo",
          "Costa Rica",
          "Croatia",
          "Cuba",
          "Cyprus",
          "Czech Republic",
          "Democratic Republic of the Congo",
          "Denmark",
          "Djibouti",
          "Dominica",
          "Dominican Republic",
          "Ecuador",
          "Egypt",
          "El Salvador",
          "Equatorial Guinea",
          "Eritrea",
          "Estonia",
          "Ethiopia",
          "Fiji",
          "Finland",
          "France",
          "Gabon",
          "The Gambia",
          "Georgia",
          "Germany",
          "Ghana",
          "Greece",
          "Grenada",
          "Guatemala",
          "Guinea",
          "Guinea-Bissau",
          "Guyana",
          "Haiti",
          "Honduras",
          "Hungary",
          "Iceland",
          "India",
          "Indonesia",
          "Iran",
          "Iraq",
          "Republic of Ireland",
          "Israel",
          "Italy",
          "Jamaica",
          "Japan",
          "Jordan",
          "Kazakhstan",
          "Kenya",
          "Kiribati",
          "Kuwait",
          "Kyrgyzstan",
          "Laos",
          "Latvia",
          "Lebanon",
          "Lesotho",
          "Liberia",
          "Libya",
          "Liechtenstein",
          "Lithuania",
          "Luxembourg",
          "Madagascar",
          "Malawi",
          "Malaysia",
          "Maldives",
          "Mali",
          "Malta",
          "Marshall Islands",
          "Mauritania",
          "Mauritius",
          "Mexico",
          "Federated States of Micronesia",
          "Moldova",
          "Mongolia",
          "Montenegro",
          "Morocco",
          "Mozambique",
          "Myanmar",
          "Namibia",
          "Nepal",
          "Netherlands",
          "New Zealand",
          "Nicaragua",
          "Niger",
          "Nigeria",
          "North Korea",
          "Norway",
          "Oman",
          "Pakistan",
          "Palau",
          "Panama",
          "Papua New Guinea",
          "Paraguay",
          "Peru",
          "Philippines",
          "Poland",
          "Portugal",
          "Qatar",
          "Romania",
          "Russia",
          "Rwanda",
          "Saint Kitts and Nevis",
          "Saint Lucia",
          "Saint Vincent and the Grenadines",
          "Samoa",
          "São Tomé and Príncipe",
          "Saudi Arabia",
          "Senegal",
          "Serbia",
          "Seychelles",
          "Sierra Leone",
          "Singapore",
          "Slovakia",
          "Slovenia",
          "Solomon Islands",
          "Somalia",
          "South Africa",
          "South Korea",
          "South Sudan",
          "Spain",
          "Sri Lanka",
          "Sudan",
          "Suriname",
          "Sweden",
          "Switzerland",
          "Syria",
          "Tajikistan",
          "Tanzania",
          "Thailand",
          "East Timor",
          "Togo",
          "Tonga",
          "Trinidad and Tobago",
          "Tunisia",
          "Turkey",
          "Turkmenistan",
          "Tuvalu",
          "Uganda",
          "Ukraine",
          "United Arab Emirates",
          "United Kingdom",
          "United States",
          "Uruguay",
          "Uzbekistan",
          "Vanuatu",
          "Venezuela",
          "Vietnam",
          "Yemen",
          "Zambia",
          "Zimbabwe"
         ],
         "legendgroup": "",
         "marker": {
          "color": [
           9.067854723679428,
           8.419800845407588,
           11.918430572278414,
           6.150602768446279,
           10.45429321647827,
           6.322565239927284,
           12.212790033277699,
           8.547916364059079,
           12.837099711581725,
           11.025946567678519,
           10.535291102855021,
           7.487733761436444,
           10.363882667502754,
           11.341496369342698,
           7.151485463904735,
           10.97301426030914,
           11.48132127234323,
           6.342121418721152,
           8.775858314797526,
           7.13966033596492,
           9.98072633287693,
           9.99186466315354,
           8.754634047431272,
           13.043967146876422,
           8.944289319650697,
           10.638448235909484,
           8.136810863675537,
           6.20455776256869,
           9.177197153382929,
           6.297109319933935,
           9.202207388745993,
           9.022925868116218,
           13.208346559315851,
           5.6937321388027,
           6.923628628138427,
           11.360030662864972,
           16.10734183539775,
           11.490822995062281,
           5.308267697401205,
           8.096208271650037,
           8.990067695753655,
           9.76927021041632,
           10.250051552724132,
           8.798756582859841,
           11.53486306648813,
           7.611347717403621,
           10.366781220256765,
           6.429719478039138,
           5.19295685089021,
           10.136898216206115,
           10.625100705406744,
           12.382376129998566,
           8.877521453852872,
           8.640295388550221,
           6.566672429803241,
           9.71655538318449,
           9.6071010394542,
           7.6236419465115715,
           10.73358838809481,
           12.622398560971083,
           8.579416534596369,
           6.2766434893416445,
           9.223059144383958,
           13.498019238578962,
           9.72136597574484,
           11.041865277763653,
           5.5909869805108565,
           9.7277641797704,
           8.005033344637111,
           5.680172609017068,
           7.776535028185241,
           7.999007213243955,
           9.191463316206494,
           10.72628046129497,
           7.632885505395133,
           14.694170863508482,
           13.241612005222322,
           13.402582672474743,
           12.155100352247834,
           10.537707108065746,
           11.084693139508092,
           12.677359825671903,
           9.014933575633572,
           13.942923521114947,
           10.130941799437423,
           12.417981321316853,
           9.793114495054757,
           4.189654742026425,
           11.500184644319393,
           9.18881025342582,
           9.784872921199886,
           8.854236693405742,
           10.11843762882181,
           7.828834527588089,
           7.234177179749849,
           10.830995139615448,
           3.9318256327243257,
           9.469854424600042,
           9.10364563330522,
           8.270013062273787,
           7.168579897264035,
           12.422348669266439,
           7.275864600546533,
           8.064321960910803,
           7.201916317531627,
           4.962844630259907,
           7.915348169263078,
           8.37770121259764,
           13.094798945084328,
           4.962844630259907,
           8.539932678385727,
           10.141243816218184,
           7.6093665379542115,
           11.023143528132588,
           8.980046316633132,
           10.137768848260794,
           8.349484346990128,
           9.116578992161708,
           12.048131457461597,
           10.445288450601439,
           8.629092283913646,
           7.6093665379542115,
           11.698317303621401,
           10.250051552724132,
           10.621888164008205,
           11.058117790146436,
           12.211806177377934,
           5.4116460518550396,
           9.279399907907678,
           8.927446816256198,
           8.91018077801329,
           10.958043455007317,
           11.714126020031985,
           12.60832259053634,
           10.794296360395592,
           11.544995674094668,
           11.145608379503926,
           14.364802956897561,
           7.016609683894219,
           5.472270673671475,
           6.025865973825314,
           5.393627546352362,
           5.5053315359323625,
           4.795790545596741,
           13.241832102598549,
           9.296701537624227,
           10.71931685969625,
           6.405228458030842,
           6.996681488176539,
           10.533029110007103,
           10.386654168308144,
           9.444067716830038,
           5.1298987149230735,
           6.4692503167957724,
           13.074525159989774,
           13.337961735202343,
           7.454141078146678,
           12.404931700963058,
           10.058866049715641,
           9.903487552536127,
           7.460490305825338,
           10.674798754065428,
           10.448047714031748,
           10.269171790632448,
           8.577347114235984,
           9.390409393716844,
           12.55589466170625,
           6.20455776256869,
           8.006367567650246,
           4.852030263919617,
           10.6889404038801,
           10.306850452552423,
           12.8285961612966,
           11.165210262402969,
           2.3978952727983707,
           8.644706511715198,
           12.217259834920737,
           12.237203027726736,
           12.845357444949782,
           15.42620807676109,
           8.819665349340653,
           11.427487395138115,
           4.990432586778736,
           12.008688211059173,
           12.168723779377684,
           9.269457976459272,
           8.545002892055505,
           9.304103901788347
          ],
          "coloraxis": "coloraxis",
          "line": {
           "color": "black",
           "width": 1
          },
          "size": 10,
          "symbol": "circle"
         },
         "mode": "markers",
         "name": "",
         "orientation": "v",
         "showlegend": false,
         "type": "scatter",
         "x": [
          17.45419490393703,
          14.864298998395611,
          17.57794372708839,
          11.253403158312304,
          17.275771971807046,
          11.48368201300056,
          17.6208101638746,
          14.8999329782934,
          17.064589831613713,
          15.99898176761688,
          16.120424736531547,
          12.872572930131373,
          14.222065072453763,
          18.93536394568785,
          12.567324598962013,
          16.063307414263328,
          16.256470109483654,
          12.874806736929433,
          16.283707627051825,
          13.496881186421863,
          16.258996075451485,
          15.00973601083533,
          14.668298605370106,
          19.174732116657083,
          12.97915098908124,
          15.757951983662954,
          16.827183993335854,
          16.260513194536003,
          17.062645078165247,
          13.089071295136844,
          16.618054969694853,
          17.068841141460968,
          17.42621171738949,
          15.372640977674989,
          16.58477350594268,
          16.757422029884175,
          21.05810459731427,
          17.734299482850595,
          13.654033438535059,
          15.498293351472142,
          15.434415714286793,
          15.21853911807533,
          16.24327199970748,
          13.996643909121419,
          16.182919350178757,
          18.2790084986098,
          15.576562163365642,
          13.78871473517711,
          11.181751169442313,
          16.18938862185403,
          16.670465939255678,
          18.424553963344522,
          15.680141389821472,
          14.120039422945405,
          15.661305932182781,
          14.10205998922012,
          18.53471212873682,
          13.698923931325115,
          15.523945300693413,
          18.02109661394278,
          14.591425499096907,
          14.668949239143139,
          15.129336909149304,
          18.235949875095624,
          17.242785219139193,
          16.18727855772076,
          11.626280935632787,
          16.62515575404158,
          16.362706795684236,
          14.468315837074174,
          13.570589079733496,
          16.2370404115509,
          16.09237950723863,
          16.09482180394393,
          12.7974998976675,
          21.035458374181147,
          19.414687480054432,
          18.233313350308233,
          17.486983977158946,
          15.426361271924138,
          16.018639890094757,
          17.914799476685353,
          14.896732168247434,
          18.65358900889393,
          16.128213690519875,
          16.7340339796796,
          17.777731745363198,
          11.67509533355333,
          15.2522800914011,
          15.68065988442038,
          15.785340198529207,
          14.464072944377806,
          15.740592877240026,
          14.569408470035551,
          15.412344168878558,
          15.729111778072408,
          10.545841313750174,
          14.840420330731703,
          13.377620910309059,
          17.110209999568877,
          16.740216483203724,
          17.295130412351007,
          13.182428784065582,
          16.793996515073587,
          13.127655350183407,
          10.981744060947165,
          15.325281935442984,
          14.051144577585786,
          18.65190376030949,
          11.642329602181489,
          14.792947940080195,
          14.986495289817055,
          13.34091560470298,
          17.424008246931184,
          17.228835304960022,
          17.805335362103936,
          14.72961089266912,
          17.16922177488007,
          16.668114102873425,
          15.392631868921832,
          15.694288654155677,
          16.96442368407219,
          19.118634350120367,
          17.060683989657075,
          15.492213770492821,
          15.47688320901658,
          19.19340275967365,
          9.810988418039205,
          15.26159130732804,
          15.987543701097083,
          15.76777703413055,
          17.29707222635711,
          18.49872097107628,
          17.452329950115313,
          16.14468081301007,
          14.856517391707987,
          16.778541111480777,
          18.787914492002702,
          16.351343976644227,
          10.874701980906183,
          12.11609323191065,
          11.51746514501226,
          12.218524794719412,
          12.278653738310929,
          17.34973793990815,
          16.606452573409076,
          15.75352893445208,
          11.488888887141988,
          15.871327088839095,
          15.556602677211574,
          15.511873226969897,
          14.551691365581272,
          13.414768777361225,
          16.552660232531746,
          17.88553288483122,
          17.761144300785727,
          16.219036584635553,
          17.667290465036654,
          16.897558132970186,
          17.572357911794352,
          13.273146106332478,
          16.14624112482458,
          15.964341958987621,
          16.65284100335095,
          16.0477824081647,
          17.876047753730298,
          18.058642615243212,
          15.068273526459642,
          15.905195209415526,
          11.515013283958575,
          14.148385618211586,
          16.274647930349634,
          18.2395139002206,
          15.597571313014363,
          9.362718052397065,
          17.60580863367011,
          17.608415624649236,
          16.094881167896045,
          18.01772855082695,
          19.609254152892177,
          15.05728017756651,
          17.329460566186306,
          12.611144342929158,
          17.165969894568207,
          18.384660805250864,
          17.188374375141123,
          16.698131802522408,
          16.499641494032456
         ],
         "xaxis": "x",
         "y": [
          23.673025050795935,
          23.44968479123718,
          25.858995073943582,
          21.87195571054336,
          25.273297617890574,
          21.270091179914328,
          26.83176524423952,
          23.338674452630165,
          27.962251487469544,
          26.824290234090512,
          24.39212113922942,
          23.274818161264125,
          24.37584610396475,
          26.435582637525844,
          22.373653735709464,
          24.867676844148168,
          26.99540051221779,
          21.354332060748796,
          23.389848633560042,
          21.617995429455966,
          24.43428153807712,
          23.7213876749658,
          23.632378154477408,
          28.240655179318917,
          23.32368798613921,
          25.17761313319992,
          23.479840150003906,
          21.825981323306653,
          24.79727512595568,
          21.40729443985557,
          24.02240796739289,
          24.38066667325139,
          28.18284988041035,
          21.520911477751163,
          23.14939081580172,
          26.36630049796192,
          30.622243234004653,
          26.503400550505646,
          20.89362333984891,
          23.104716742051707,
          24.84674749719789,
          24.824512409385274,
          25.328665996488557,
          23.92457417048793,
          26.230584200653862,
          24.580190934435883,
          26.575692482582348,
          21.922843906255313,
          20.20580715131807,
          25.211242418931647,
          25.400158040246122,
          26.43757645436161,
          24.019940870109007,
          23.123592238065143,
          21.448396850768297,
          24.169658037771995,
          25.288734883334115,
          22.43445658012196,
          26.31708909501739,
          28.630003943998005,
          23.536154030895176,
          21.290747208770405,
          23.599267942474054,
          28.977958562634427,
          24.927714161186312,
          26.069671985891276,
          20.928791394833183,
          25.0633029452791,
          23.33262080139189,
          21.016226013915592,
          22.1773224965421,
          22.86321220750309,
          23.945950219044498,
          25.804466190463565,
          23.909123956907138,
          28.59075440564554,
          27.743627022909394,
          26.822115733129465,
          26.1789887644685,
          26.68607035951224,
          26.702401358306425,
          28.324790299025803,
          23.52408183626376,
          29.25668065197852,
          24.50161257004405,
          25.917120846482472,
          25.28242442462219,
          19.086699257399058,
          25.626770152343376,
          22.857978828101544,
          23.62324898641413,
          24.253067567785443,
          24.700459206457328,
          21.623456635237563,
          21.84511214652176,
          24.67597484585005,
          22.60316724007983,
          24.716303058288794,
          24.987422357128906,
          23.368298589324752,
          22.76015268945619,
          26.622345096496286,
          22.468850202352243,
          23.586046045518923,
          23.41695721262258,
          19.214930387517388,
          22.750591700120925,
          23.375129708546268,
          27.86077216328183,
          19.811794172193277,
          23.204451861869206,
          23.351756843280544,
          22.4270565439469,
          25.500078086367242,
          23.426917038354865,
          25.055128179367287,
          23.238259282168194,
          24.145617239680966,
          27.535688370546723,
          26.055640443179456,
          23.250666306256132,
          23.282672563909674,
          26.828327847654684,
          24.19212186708238,
          26.723036699987972,
          25.06685168830665,
          26.441608462933942,
          19.46446683821776,
          24.924980893465204,
          23.94092537984349,
          24.364668099240358,
          26.147546250645654,
          26.654968459938512,
          27.1070501371427,
          26.194216630021614,
          25.93529633920573,
          26.24503648290596,
          28.161576763691045,
          23.03802379803783,
          20.773000881242652,
          21.47583721557301,
          20.531360726248398,
          20.561517218917853,
          19.87700618243693,
          27.399047239500042,
          23.88358347565858,
          24.6630823466368,
          21.25321330515204,
          22.094820680873543,
          26.642327761742767,
          25.38124007282805,
          24.70746362386304,
          21.077489737731522,
          22.27522870899614,
          26.585281074782,
          28.338564176772227,
          23.207989199188276,
          27.96328186149283,
          25.15418719884663,
          23.662548623453638,
          22.10586606740995,
          26.997713135858678,
          27.278739984129906,
          24.42221952530153,
          22.8171804853513,
          24.869207226922647,
          27.021571450549462,
          21.238207159592513,
          22.4207108569159,
          19.925542974887946,
          23.90548609375615,
          24.38162705925642,
          27.349204088032554,
          24.43099508359775,
          17.671417352152975,
          24.260951096528576,
          25.75879579878275,
          26.76623654213761,
          28.670277230872852,
          30.695705593475914,
          24.749437065911206,
          24.78235079541258,
          20.63668220591498,
          26.90195514789123,
          26.291309703318326,
          24.01592737894119,
          23.861570120326455,
          23.788559564313783
         ],
         "yaxis": "y"
        }
       ],
       "layout": {
        "annotations": [
         {
          "align": "center",
          "font": {
           "color": "gray",
           "size": 14
          },
          "showarrow": false,
          "text": "Log-Log Relationship Between Population, GDP, and CO₂ Emissions",
          "x": 0.56,
          "xanchor": "center",
          "xref": "paper",
          "y": 1.08,
          "yref": "paper"
         }
        ],
        "coloraxis": {
         "colorbar": {
          "title": {
           "text": "Log(CO₂ Emissions)"
          }
         },
         "colorscale": [
          [
           0,
           "#440154"
          ],
          [
           0.1111111111111111,
           "#482878"
          ],
          [
           0.2222222222222222,
           "#3e4989"
          ],
          [
           0.3333333333333333,
           "#31688e"
          ],
          [
           0.4444444444444444,
           "#26828e"
          ],
          [
           0.5555555555555556,
           "#1f9e89"
          ],
          [
           0.6666666666666666,
           "#35b779"
          ],
          [
           0.7777777777777778,
           "#6ece58"
          ],
          [
           0.8888888888888888,
           "#b5de2b"
          ],
          [
           1,
           "#fde725"
          ]
         ]
        },
        "height": 600,
        "legend": {
         "tracegroupgap": 0
        },
        "template": {
         "data": {
          "bar": [
           {
            "error_x": {
             "color": "#2a3f5f"
            },
            "error_y": {
             "color": "#2a3f5f"
            },
            "marker": {
             "line": {
              "color": "#E5ECF6",
              "width": 0.5
             },
             "pattern": {
              "fillmode": "overlay",
              "size": 10,
              "solidity": 0.2
             }
            },
            "type": "bar"
           }
          ],
          "barpolar": [
           {
            "marker": {
             "line": {
              "color": "#E5ECF6",
              "width": 0.5
             },
             "pattern": {
              "fillmode": "overlay",
              "size": 10,
              "solidity": 0.2
             }
            },
            "type": "barpolar"
           }
          ],
          "carpet": [
           {
            "aaxis": {
             "endlinecolor": "#2a3f5f",
             "gridcolor": "white",
             "linecolor": "white",
             "minorgridcolor": "white",
             "startlinecolor": "#2a3f5f"
            },
            "baxis": {
             "endlinecolor": "#2a3f5f",
             "gridcolor": "white",
             "linecolor": "white",
             "minorgridcolor": "white",
             "startlinecolor": "#2a3f5f"
            },
            "type": "carpet"
           }
          ],
          "choropleth": [
           {
            "colorbar": {
             "outlinewidth": 0,
             "ticks": ""
            },
            "type": "choropleth"
           }
          ],
          "contour": [
           {
            "colorbar": {
             "outlinewidth": 0,
             "ticks": ""
            },
            "colorscale": [
             [
              0,
              "#0d0887"
             ],
             [
              0.1111111111111111,
              "#46039f"
             ],
             [
              0.2222222222222222,
              "#7201a8"
             ],
             [
              0.3333333333333333,
              "#9c179e"
             ],
             [
              0.4444444444444444,
              "#bd3786"
             ],
             [
              0.5555555555555556,
              "#d8576b"
             ],
             [
              0.6666666666666666,
              "#ed7953"
             ],
             [
              0.7777777777777778,
              "#fb9f3a"
             ],
             [
              0.8888888888888888,
              "#fdca26"
             ],
             [
              1,
              "#f0f921"
             ]
            ],
            "type": "contour"
           }
          ],
          "contourcarpet": [
           {
            "colorbar": {
             "outlinewidth": 0,
             "ticks": ""
            },
            "type": "contourcarpet"
           }
          ],
          "heatmap": [
           {
            "colorbar": {
             "outlinewidth": 0,
             "ticks": ""
            },
            "colorscale": [
             [
              0,
              "#0d0887"
             ],
             [
              0.1111111111111111,
              "#46039f"
             ],
             [
              0.2222222222222222,
              "#7201a8"
             ],
             [
              0.3333333333333333,
              "#9c179e"
             ],
             [
              0.4444444444444444,
              "#bd3786"
             ],
             [
              0.5555555555555556,
              "#d8576b"
             ],
             [
              0.6666666666666666,
              "#ed7953"
             ],
             [
              0.7777777777777778,
              "#fb9f3a"
             ],
             [
              0.8888888888888888,
              "#fdca26"
             ],
             [
              1,
              "#f0f921"
             ]
            ],
            "type": "heatmap"
           }
          ],
          "heatmapgl": [
           {
            "colorbar": {
             "outlinewidth": 0,
             "ticks": ""
            },
            "colorscale": [
             [
              0,
              "#0d0887"
             ],
             [
              0.1111111111111111,
              "#46039f"
             ],
             [
              0.2222222222222222,
              "#7201a8"
             ],
             [
              0.3333333333333333,
              "#9c179e"
             ],
             [
              0.4444444444444444,
              "#bd3786"
             ],
             [
              0.5555555555555556,
              "#d8576b"
             ],
             [
              0.6666666666666666,
              "#ed7953"
             ],
             [
              0.7777777777777778,
              "#fb9f3a"
             ],
             [
              0.8888888888888888,
              "#fdca26"
             ],
             [
              1,
              "#f0f921"
             ]
            ],
            "type": "heatmapgl"
           }
          ],
          "histogram": [
           {
            "marker": {
             "pattern": {
              "fillmode": "overlay",
              "size": 10,
              "solidity": 0.2
             }
            },
            "type": "histogram"
           }
          ],
          "histogram2d": [
           {
            "colorbar": {
             "outlinewidth": 0,
             "ticks": ""
            },
            "colorscale": [
             [
              0,
              "#0d0887"
             ],
             [
              0.1111111111111111,
              "#46039f"
             ],
             [
              0.2222222222222222,
              "#7201a8"
             ],
             [
              0.3333333333333333,
              "#9c179e"
             ],
             [
              0.4444444444444444,
              "#bd3786"
             ],
             [
              0.5555555555555556,
              "#d8576b"
             ],
             [
              0.6666666666666666,
              "#ed7953"
             ],
             [
              0.7777777777777778,
              "#fb9f3a"
             ],
             [
              0.8888888888888888,
              "#fdca26"
             ],
             [
              1,
              "#f0f921"
             ]
            ],
            "type": "histogram2d"
           }
          ],
          "histogram2dcontour": [
           {
            "colorbar": {
             "outlinewidth": 0,
             "ticks": ""
            },
            "colorscale": [
             [
              0,
              "#0d0887"
             ],
             [
              0.1111111111111111,
              "#46039f"
             ],
             [
              0.2222222222222222,
              "#7201a8"
             ],
             [
              0.3333333333333333,
              "#9c179e"
             ],
             [
              0.4444444444444444,
              "#bd3786"
             ],
             [
              0.5555555555555556,
              "#d8576b"
             ],
             [
              0.6666666666666666,
              "#ed7953"
             ],
             [
              0.7777777777777778,
              "#fb9f3a"
             ],
             [
              0.8888888888888888,
              "#fdca26"
             ],
             [
              1,
              "#f0f921"
             ]
            ],
            "type": "histogram2dcontour"
           }
          ],
          "mesh3d": [
           {
            "colorbar": {
             "outlinewidth": 0,
             "ticks": ""
            },
            "type": "mesh3d"
           }
          ],
          "parcoords": [
           {
            "line": {
             "colorbar": {
              "outlinewidth": 0,
              "ticks": ""
             }
            },
            "type": "parcoords"
           }
          ],
          "pie": [
           {
            "automargin": true,
            "type": "pie"
           }
          ],
          "scatter": [
           {
            "fillpattern": {
             "fillmode": "overlay",
             "size": 10,
             "solidity": 0.2
            },
            "type": "scatter"
           }
          ],
          "scatter3d": [
           {
            "line": {
             "colorbar": {
              "outlinewidth": 0,
              "ticks": ""
             }
            },
            "marker": {
             "colorbar": {
              "outlinewidth": 0,
              "ticks": ""
             }
            },
            "type": "scatter3d"
           }
          ],
          "scattercarpet": [
           {
            "marker": {
             "colorbar": {
              "outlinewidth": 0,
              "ticks": ""
             }
            },
            "type": "scattercarpet"
           }
          ],
          "scattergeo": [
           {
            "marker": {
             "colorbar": {
              "outlinewidth": 0,
              "ticks": ""
             }
            },
            "type": "scattergeo"
           }
          ],
          "scattergl": [
           {
            "marker": {
             "colorbar": {
              "outlinewidth": 0,
              "ticks": ""
             }
            },
            "type": "scattergl"
           }
          ],
          "scattermapbox": [
           {
            "marker": {
             "colorbar": {
              "outlinewidth": 0,
              "ticks": ""
             }
            },
            "type": "scattermapbox"
           }
          ],
          "scatterpolar": [
           {
            "marker": {
             "colorbar": {
              "outlinewidth": 0,
              "ticks": ""
             }
            },
            "type": "scatterpolar"
           }
          ],
          "scatterpolargl": [
           {
            "marker": {
             "colorbar": {
              "outlinewidth": 0,
              "ticks": ""
             }
            },
            "type": "scatterpolargl"
           }
          ],
          "scatterternary": [
           {
            "marker": {
             "colorbar": {
              "outlinewidth": 0,
              "ticks": ""
             }
            },
            "type": "scatterternary"
           }
          ],
          "surface": [
           {
            "colorbar": {
             "outlinewidth": 0,
             "ticks": ""
            },
            "colorscale": [
             [
              0,
              "#0d0887"
             ],
             [
              0.1111111111111111,
              "#46039f"
             ],
             [
              0.2222222222222222,
              "#7201a8"
             ],
             [
              0.3333333333333333,
              "#9c179e"
             ],
             [
              0.4444444444444444,
              "#bd3786"
             ],
             [
              0.5555555555555556,
              "#d8576b"
             ],
             [
              0.6666666666666666,
              "#ed7953"
             ],
             [
              0.7777777777777778,
              "#fb9f3a"
             ],
             [
              0.8888888888888888,
              "#fdca26"
             ],
             [
              1,
              "#f0f921"
             ]
            ],
            "type": "surface"
           }
          ],
          "table": [
           {
            "cells": {
             "fill": {
              "color": "#EBF0F8"
             },
             "line": {
              "color": "white"
             }
            },
            "header": {
             "fill": {
              "color": "#C8D4E3"
             },
             "line": {
              "color": "white"
             }
            },
            "type": "table"
           }
          ]
         },
         "layout": {
          "annotationdefaults": {
           "arrowcolor": "#2a3f5f",
           "arrowhead": 0,
           "arrowwidth": 1
          },
          "autotypenumbers": "strict",
          "coloraxis": {
           "colorbar": {
            "outlinewidth": 0,
            "ticks": ""
           }
          },
          "colorscale": {
           "diverging": [
            [
             0,
             "#8e0152"
            ],
            [
             0.1,
             "#c51b7d"
            ],
            [
             0.2,
             "#de77ae"
            ],
            [
             0.3,
             "#f1b6da"
            ],
            [
             0.4,
             "#fde0ef"
            ],
            [
             0.5,
             "#f7f7f7"
            ],
            [
             0.6,
             "#e6f5d0"
            ],
            [
             0.7,
             "#b8e186"
            ],
            [
             0.8,
             "#7fbc41"
            ],
            [
             0.9,
             "#4d9221"
            ],
            [
             1,
             "#276419"
            ]
           ],
           "sequential": [
            [
             0,
             "#0d0887"
            ],
            [
             0.1111111111111111,
             "#46039f"
            ],
            [
             0.2222222222222222,
             "#7201a8"
            ],
            [
             0.3333333333333333,
             "#9c179e"
            ],
            [
             0.4444444444444444,
             "#bd3786"
            ],
            [
             0.5555555555555556,
             "#d8576b"
            ],
            [
             0.6666666666666666,
             "#ed7953"
            ],
            [
             0.7777777777777778,
             "#fb9f3a"
            ],
            [
             0.8888888888888888,
             "#fdca26"
            ],
            [
             1,
             "#f0f921"
            ]
           ],
           "sequentialminus": [
            [
             0,
             "#0d0887"
            ],
            [
             0.1111111111111111,
             "#46039f"
            ],
            [
             0.2222222222222222,
             "#7201a8"
            ],
            [
             0.3333333333333333,
             "#9c179e"
            ],
            [
             0.4444444444444444,
             "#bd3786"
            ],
            [
             0.5555555555555556,
             "#d8576b"
            ],
            [
             0.6666666666666666,
             "#ed7953"
            ],
            [
             0.7777777777777778,
             "#fb9f3a"
            ],
            [
             0.8888888888888888,
             "#fdca26"
            ],
            [
             1,
             "#f0f921"
            ]
           ]
          },
          "colorway": [
           "#636efa",
           "#EF553B",
           "#00cc96",
           "#ab63fa",
           "#FFA15A",
           "#19d3f3",
           "#FF6692",
           "#B6E880",
           "#FF97FF",
           "#FECB52"
          ],
          "font": {
           "color": "#2a3f5f"
          },
          "geo": {
           "bgcolor": "white",
           "lakecolor": "white",
           "landcolor": "#E5ECF6",
           "showlakes": true,
           "showland": true,
           "subunitcolor": "white"
          },
          "hoverlabel": {
           "align": "left"
          },
          "hovermode": "closest",
          "mapbox": {
           "style": "light"
          },
          "paper_bgcolor": "white",
          "plot_bgcolor": "#E5ECF6",
          "polar": {
           "angularaxis": {
            "gridcolor": "white",
            "linecolor": "white",
            "ticks": ""
           },
           "bgcolor": "#E5ECF6",
           "radialaxis": {
            "gridcolor": "white",
            "linecolor": "white",
            "ticks": ""
           }
          },
          "scene": {
           "xaxis": {
            "backgroundcolor": "#E5ECF6",
            "gridcolor": "white",
            "gridwidth": 2,
            "linecolor": "white",
            "showbackground": true,
            "ticks": "",
            "zerolinecolor": "white"
           },
           "yaxis": {
            "backgroundcolor": "#E5ECF6",
            "gridcolor": "white",
            "gridwidth": 2,
            "linecolor": "white",
            "showbackground": true,
            "ticks": "",
            "zerolinecolor": "white"
           },
           "zaxis": {
            "backgroundcolor": "#E5ECF6",
            "gridcolor": "white",
            "gridwidth": 2,
            "linecolor": "white",
            "showbackground": true,
            "ticks": "",
            "zerolinecolor": "white"
           }
          },
          "shapedefaults": {
           "line": {
            "color": "#2a3f5f"
           }
          },
          "ternary": {
           "aaxis": {
            "gridcolor": "white",
            "linecolor": "white",
            "ticks": ""
           },
           "baxis": {
            "gridcolor": "white",
            "linecolor": "white",
            "ticks": ""
           },
           "bgcolor": "#E5ECF6",
           "caxis": {
            "gridcolor": "white",
            "linecolor": "white",
            "ticks": ""
           }
          },
          "title": {
           "x": 0.05
          },
          "xaxis": {
           "automargin": true,
           "gridcolor": "white",
           "linecolor": "white",
           "ticks": "",
           "title": {
            "standoff": 15
           },
           "zerolinecolor": "white",
           "zerolinewidth": 2
          },
          "yaxis": {
           "automargin": true,
           "gridcolor": "white",
           "linecolor": "white",
           "ticks": "",
           "title": {
            "standoff": 15
           },
           "zerolinecolor": "white",
           "zerolinewidth": 2
          }
         }
        },
        "title": {
         "font": {
          "size": 20
         },
         "text": "The Carbon Cost of Economic Scale: A Global Comparison",
         "x": 0.5,
         "xanchor": "center"
        },
        "width": 1000,
        "xaxis": {
         "anchor": "y",
         "autorange": true,
         "domain": [
          0,
          1
         ],
         "range": [
          8.587483066647764,
          21.83333958306357
         ],
         "title": {
          "text": "Log(Population)"
         },
         "type": "linear"
        },
        "yaxis": {
         "anchor": "x",
         "autorange": true,
         "domain": [
          0,
          1
         ],
         "range": [
          16.70038628628143,
          31.66673665934746
         ],
         "title": {
          "text": "Log(Gross Domestic Product)"
         },
         "type": "linear"
        }
       }
      },
      "image/png": "[encoded data removed]",
      "text/html": [
       "<div>                            <div id=\"6e5d9b4c-e68b-4f8d-ac18-90ef838cc3a5\" class=\"plotly-graph-div\" style=\"height:600px; width:1000px;\"></div>            <script type=\"text/javascript\">                require([\"plotly\"], function(Plotly) {                    window.PLOTLYENV=window.PLOTLYENV || {};                                    if (document.getElementById(\"6e5d9b4c-e68b-4f8d-ac18-90ef838cc3a5\")) {                    Plotly.newPlot(                        \"6e5d9b4c-e68b-4f8d-ac18-90ef838cc3a5\",                        [{\"hovertemplate\":\"<b>%{hovertext}</b><br><br>Log(Population)=%{x}<br>Log(Gross Domestic Product)=%{y}<br>Log(CO\\u2082 Emissions)=%{marker.color}<extra></extra>\",\"hovertext\":[\"Afghanistan\",\"Albania\",\"Algeria\",\"Andorra\",\"Angola\",\"Antigua and Barbuda\",\"Argentina\",\"Armenia\",\"Australia\",\"Austria\",\"Azerbaijan\",\"The Bahamas\",\"Bahrain\",\"Bangladesh\",\"Barbados\",\"Belarus\",\"Belgium\",\"Belize\",\"Benin\",\"Bhutan\",\"Bolivia\",\"Bosnia and Herzegovina\",\"Botswana\",\"Brazil\",\"Brunei\",\"Bulgaria\",\"Burkina Faso\",\"Burundi\",\"Ivory Coast\",\"Cape Verde\",\"Cambodia\",\"Cameroon\",\"Canada\",\"Central African Republic\",\"Chad\",\"Chile\",\"China\",\"Colombia\",\"Comoros\",\"Republic of the Congo\",\"Costa Rica\",\"Croatia\",\"Cuba\",\"Cyprus\",\"Czech Republic\",\"Democratic Republic of the Congo\",\"Denmark\",\"Djibouti\",\"Dominica\",\"Dominican Republic\",\"Ecuador\",\"Egypt\",\"El Salvador\",\"Equatorial Guinea\",\"Eritrea\",\"Estonia\",\"Ethiopia\",\"Fiji\",\"Finland\",\"France\",\"Gabon\",\"The Gambia\",\"Georgia\",\"Germany\",\"Ghana\",\"Greece\",\"Grenada\",\"Guatemala\",\"Guinea\",\"Guinea-Bissau\",\"Guyana\",\"Haiti\",\"Honduras\",\"Hungary\",\"Iceland\",\"India\",\"Indonesia\",\"Iran\",\"Iraq\",\"Republic of Ireland\",\"Israel\",\"Italy\",\"Jamaica\",\"Japan\",\"Jordan\",\"Kazakhstan\",\"Kenya\",\"Kiribati\",\"Kuwait\",\"Kyrgyzstan\",\"Laos\",\"Latvia\",\"Lebanon\",\"Lesotho\",\"Liberia\",\"Libya\",\"Liechtenstein\",\"Lithuania\",\"Luxembourg\",\"Madagascar\",\"Malawi\",\"Malaysia\",\"Maldives\",\"Mali\",\"Malta\",\"Marshall Islands\",\"Mauritania\",\"Mauritius\",\"Mexico\",\"Federated States of Micronesia\",\"Moldova\",\"Mongolia\",\"Montenegro\",\"Morocco\",\"Mozambique\",\"Myanmar\",\"Namibia\",\"Nepal\",\"Netherlands\",\"New Zealand\",\"Nicaragua\",\"Niger\",\"Nigeria\",\"North Korea\",\"Norway\",\"Oman\",\"Pakistan\",\"Palau\",\"Panama\",\"Papua New Guinea\",\"Paraguay\",\"Peru\",\"Philippines\",\"Poland\",\"Portugal\",\"Qatar\",\"Romania\",\"Russia\",\"Rwanda\",\"Saint Kitts and Nevis\",\"Saint Lucia\",\"Saint Vincent and the Grenadines\",\"Samoa\",\"S\\u00e3o Tom\\u00e9 and Pr\\u00edncipe\",\"Saudi Arabia\",\"Senegal\",\"Serbia\",\"Seychelles\",\"Sierra Leone\",\"Singapore\",\"Slovakia\",\"Slovenia\",\"Solomon Islands\",\"Somalia\",\"South Africa\",\"South Korea\",\"South Sudan\",\"Spain\",\"Sri Lanka\",\"Sudan\",\"Suriname\",\"Sweden\",\"Switzerland\",\"Syria\",\"Tajikistan\",\"Tanzania\",\"Thailand\",\"East Timor\",\"Togo\",\"Tonga\",\"Trinidad and Tobago\",\"Tunisia\",\"Turkey\",\"Turkmenistan\",\"Tuvalu\",\"Uganda\",\"Ukraine\",\"United Arab Emirates\",\"United Kingdom\",\"United States\",\"Uruguay\",\"Uzbekistan\",\"Vanuatu\",\"Venezuela\",\"Vietnam\",\"Yemen\",\"Zambia\",\"Zimbabwe\"],\"legendgroup\":\"\",\"marker\":{\"color\":[9.067854723679428,8.419800845407588,11.918430572278414,6.150602768446279,10.45429321647827,6.322565239927284,12.212790033277699,8.547916364059079,12.837099711581725,11.025946567678519,10.535291102855021,7.487733761436444,10.363882667502754,11.341496369342698,7.151485463904735,10.97301426030914,11.48132127234323,6.342121418721152,8.775858314797526,7.13966033596492,9.98072633287693,9.99186466315354,8.754634047431272,13.043967146876422,8.944289319650697,10.638448235909484,8.136810863675537,6.20455776256869,9.177197153382929,6.297109319933935,9.202207388745993,9.022925868116218,13.208346559315851,5.6937321388027,6.923628628138427,11.360030662864972,16.10734183539775,11.490822995062281,5.308267697401205,8.096208271650037,8.990067695753655,9.76927021041632,10.250051552724132,8.798756582859841,11.53486306648813,7.611347717403621,10.366781220256765,6.429719478039138,5.19295685089021,10.136898216206115,10.625100705406744,12.382376129998566,8.877521453852872,8.640295388550221,6.566672429803241,9.71655538318449,9.6071010394542,7.6236419465115715,10.73358838809481,12.622398560971083,8.579416534596369,6.2766434893416445,9.223059144383958,13.498019238578962,9.72136597574484,11.041865277763653,5.5909869805108565,9.7277641797704,8.005033344637111,5.680172609017068,7.776535028185241,7.999007213243955,9.191463316206494,10.72628046129497,7.632885505395133,14.694170863508482,13.241612005222322,13.402582672474743,12.155100352247834,10.537707108065746,11.084693139508092,12.677359825671903,9.014933575633572,13.942923521114947,10.130941799437423,12.417981321316853,9.793114495054757,4.189654742026425,11.500184644319393,9.18881025342582,9.784872921199886,8.854236693405742,10.11843762882181,7.828834527588089,7.234177179749849,10.830995139615448,3.9318256327243257,9.469854424600042,9.10364563330522,8.270013062273787,7.168579897264035,12.422348669266439,7.275864600546533,8.064321960910803,7.201916317531627,4.962844630259907,7.915348169263078,8.37770121259764,13.094798945084328,4.962844630259907,8.539932678385727,10.141243816218184,7.6093665379542115,11.023143528132588,8.980046316633132,10.137768848260794,8.349484346990128,9.116578992161708,12.048131457461597,10.445288450601439,8.629092283913646,7.6093665379542115,11.698317303621401,10.250051552724132,10.621888164008205,11.058117790146436,12.211806177377934,5.4116460518550396,9.279399907907678,8.927446816256198,8.91018077801329,10.958043455007317,11.714126020031985,12.60832259053634,10.794296360395592,11.544995674094668,11.145608379503926,14.364802956897561,7.016609683894219,5.472270673671475,6.025865973825314,5.393627546352362,5.5053315359323625,4.795790545596741,13.241832102598549,9.296701537624227,10.71931685969625,6.405228458030842,6.996681488176539,10.533029110007103,10.386654168308144,9.444067716830038,5.1298987149230735,6.4692503167957724,13.074525159989774,13.337961735202343,7.454141078146678,12.404931700963058,10.058866049715641,9.903487552536127,7.460490305825338,10.674798754065428,10.448047714031748,10.269171790632448,8.577347114235984,9.390409393716844,12.55589466170625,6.20455776256869,8.006367567650246,4.852030263919617,10.6889404038801,10.306850452552423,12.8285961612966,11.165210262402969,2.3978952727983707,8.644706511715198,12.217259834920737,12.237203027726736,12.845357444949782,15.42620807676109,8.819665349340653,11.427487395138115,4.990432586778736,12.008688211059173,12.168723779377684,9.269457976459272,8.545002892055505,9.304103901788347],\"coloraxis\":\"coloraxis\",\"symbol\":\"circle\",\"line\":{\"color\":\"black\",\"width\":1},\"size\":10},\"mode\":\"markers\",\"name\":\"\",\"orientation\":\"v\",\"showlegend\":false,\"x\":[17.45419490393703,14.864298998395611,17.57794372708839,11.253403158312304,17.275771971807046,11.48368201300056,17.6208101638746,14.8999329782934,17.064589831613713,15.99898176761688,16.120424736531547,12.872572930131373,14.222065072453763,18.93536394568785,12.567324598962013,16.063307414263328,16.256470109483654,12.874806736929433,16.283707627051825,13.496881186421863,16.258996075451485,15.00973601083533,14.668298605370106,19.174732116657083,12.97915098908124,15.757951983662954,16.827183993335854,16.260513194536003,17.062645078165247,13.089071295136844,16.618054969694853,17.068841141460968,17.42621171738949,15.372640977674989,16.58477350594268,16.757422029884175,21.05810459731427,17.734299482850595,13.654033438535059,15.498293351472142,15.434415714286793,15.21853911807533,16.24327199970748,13.996643909121419,16.182919350178757,18.2790084986098,15.576562163365642,13.78871473517711,11.181751169442313,16.18938862185403,16.670465939255678,18.424553963344522,15.680141389821472,14.120039422945405,15.661305932182781,14.10205998922012,18.53471212873682,13.698923931325115,15.523945300693413,18.02109661394278,14.591425499096907,14.668949239143139,15.129336909149304,18.235949875095624,17.242785219139193,16.18727855772076,11.626280935632787,16.62515575404158,16.362706795684236,14.468315837074174,13.570589079733496,16.2370404115509,16.09237950723863,16.09482180394393,12.7974998976675,21.035458374181147,19.414687480054432,18.233313350308233,17.486983977158946,15.426361271924138,16.018639890094757,17.914799476685353,14.896732168247434,18.65358900889393,16.128213690519875,16.7340339796796,17.777731745363198,11.67509533355333,15.2522800914011,15.68065988442038,15.785340198529207,14.464072944377806,15.740592877240026,14.569408470035551,15.412344168878558,15.729111778072408,10.545841313750174,14.840420330731703,13.377620910309059,17.110209999568877,16.740216483203724,17.295130412351007,13.182428784065582,16.793996515073587,13.127655350183407,10.981744060947165,15.325281935442984,14.051144577585786,18.65190376030949,11.642329602181489,14.792947940080195,14.986495289817055,13.34091560470298,17.424008246931184,17.228835304960022,17.805335362103936,14.72961089266912,17.16922177488007,16.668114102873425,15.392631868921832,15.694288654155677,16.96442368407219,19.118634350120367,17.060683989657075,15.492213770492821,15.47688320901658,19.19340275967365,9.810988418039205,15.26159130732804,15.987543701097083,15.76777703413055,17.29707222635711,18.49872097107628,17.452329950115313,16.14468081301007,14.856517391707987,16.778541111480777,18.787914492002702,16.351343976644227,10.874701980906183,12.11609323191065,11.51746514501226,12.218524794719412,12.278653738310929,17.34973793990815,16.606452573409076,15.75352893445208,11.488888887141988,15.871327088839095,15.556602677211574,15.511873226969897,14.551691365581272,13.414768777361225,16.552660232531746,17.88553288483122,17.761144300785727,16.219036584635553,17.667290465036654,16.897558132970186,17.572357911794352,13.273146106332478,16.14624112482458,15.964341958987621,16.65284100335095,16.0477824081647,17.876047753730298,18.058642615243212,15.068273526459642,15.905195209415526,11.515013283958575,14.148385618211586,16.274647930349634,18.2395139002206,15.597571313014363,9.362718052397065,17.60580863367011,17.608415624649236,16.094881167896045,18.01772855082695,19.609254152892177,15.05728017756651,17.329460566186306,12.611144342929158,17.165969894568207,18.384660805250864,17.188374375141123,16.698131802522408,16.499641494032456],\"xaxis\":\"x\",\"y\":[23.673025050795935,23.44968479123718,25.858995073943582,21.87195571054336,25.273297617890574,21.270091179914328,26.83176524423952,23.338674452630165,27.962251487469544,26.824290234090512,24.39212113922942,23.274818161264125,24.37584610396475,26.435582637525844,22.373653735709464,24.867676844148168,26.99540051221779,21.354332060748796,23.389848633560042,21.617995429455966,24.43428153807712,23.7213876749658,23.632378154477408,28.240655179318917,23.32368798613921,25.17761313319992,23.479840150003906,21.825981323306653,24.79727512595568,21.40729443985557,24.02240796739289,24.38066667325139,28.18284988041035,21.520911477751163,23.14939081580172,26.36630049796192,30.622243234004653,26.503400550505646,20.89362333984891,23.104716742051707,24.84674749719789,24.824512409385274,25.328665996488557,23.92457417048793,26.230584200653862,24.580190934435883,26.575692482582348,21.922843906255313,20.20580715131807,25.211242418931647,25.400158040246122,26.43757645436161,24.019940870109007,23.123592238065143,21.448396850768297,24.169658037771995,25.288734883334115,22.43445658012196,26.31708909501739,28.630003943998005,23.536154030895176,21.290747208770405,23.599267942474054,28.977958562634427,24.927714161186312,26.069671985891276,20.928791394833183,25.0633029452791,23.33262080139189,21.016226013915592,22.1773224965421,22.86321220750309,23.945950219044498,25.804466190463565,23.909123956907138,28.59075440564554,27.743627022909394,26.822115733129465,26.1789887644685,26.68607035951224,26.702401358306425,28.324790299025803,23.52408183626376,29.25668065197852,24.50161257004405,25.917120846482472,25.28242442462219,19.086699257399058,25.626770152343376,22.857978828101544,23.62324898641413,24.253067567785443,24.700459206457328,21.623456635237563,21.84511214652176,24.67597484585005,22.60316724007983,24.716303058288794,24.987422357128906,23.368298589324752,22.76015268945619,26.622345096496286,22.468850202352243,23.586046045518923,23.41695721262258,19.214930387517388,22.750591700120925,23.375129708546268,27.86077216328183,19.811794172193277,23.204451861869206,23.351756843280544,22.4270565439469,25.500078086367242,23.426917038354865,25.055128179367287,23.238259282168194,24.145617239680966,27.535688370546723,26.055640443179456,23.250666306256132,23.282672563909674,26.828327847654684,24.19212186708238,26.723036699987972,25.06685168830665,26.441608462933942,19.46446683821776,24.924980893465204,23.94092537984349,24.364668099240358,26.147546250645654,26.654968459938512,27.1070501371427,26.194216630021614,25.93529633920573,26.24503648290596,28.161576763691045,23.03802379803783,20.773000881242652,21.47583721557301,20.531360726248398,20.561517218917853,19.87700618243693,27.399047239500042,23.88358347565858,24.6630823466368,21.25321330515204,22.094820680873543,26.642327761742767,25.38124007282805,24.70746362386304,21.077489737731522,22.27522870899614,26.585281074782,28.338564176772227,23.207989199188276,27.96328186149283,25.15418719884663,23.662548623453638,22.10586606740995,26.997713135858678,27.278739984129906,24.42221952530153,22.8171804853513,24.869207226922647,27.021571450549462,21.238207159592513,22.4207108569159,19.925542974887946,23.90548609375615,24.38162705925642,27.349204088032554,24.43099508359775,17.671417352152975,24.260951096528576,25.75879579878275,26.76623654213761,28.670277230872852,30.695705593475914,24.749437065911206,24.78235079541258,20.63668220591498,26.90195514789123,26.291309703318326,24.01592737894119,23.861570120326455,23.788559564313783],\"yaxis\":\"y\",\"type\":\"scatter\"}],                        {\"template\":{\"data\":{\"histogram2dcontour\":[{\"type\":\"histogram2dcontour\",\"colorbar\":{\"outlinewidth\":0,\"ticks\":\"\"},\"colorscale\":[[0.0,\"#0d0887\"],[0.1111111111111111,\"#46039f\"],[0.2222222222222222,\"#7201a8\"],[0.3333333333333333,\"#9c179e\"],[0.4444444444444444,\"#bd3786\"],[0.5555555555555556,\"#d8576b\"],[0.6666666666666666,\"#ed7953\"],[0.7777777777777778,\"#fb9f3a\"],[0.8888888888888888,\"#fdca26\"],[1.0,\"#f0f921\"]]}],\"choropleth\":[{\"type\":\"choropleth\",\"colorbar\":{\"outlinewidth\":0,\"ticks\":\"\"}}],\"histogram2d\":[{\"type\":\"histogram2d\",\"colorbar\":{\"outlinewidth\":0,\"ticks\":\"\"},\"colorscale\":[[0.0,\"#0d0887\"],[0.1111111111111111,\"#46039f\"],[0.2222222222222222,\"#7201a8\"],[0.3333333333333333,\"#9c179e\"],[0.4444444444444444,\"#bd3786\"],[0.5555555555555556,\"#d8576b\"],[0.6666666666666666,\"#ed7953\"],[0.7777777777777778,\"#fb9f3a\"],[0.8888888888888888,\"#fdca26\"],[1.0,\"#f0f921\"]]}],\"heatmap\":[{\"type\":\"heatmap\",\"colorbar\":{\"outlinewidth\":0,\"ticks\":\"\"},\"colorscale\":[[0.0,\"#0d0887\"],[0.1111111111111111,\"#46039f\"],[0.2222222222222222,\"#7201a8\"],[0.3333333333333333,\"#9c179e\"],[0.4444444444444444,\"#bd3786\"],[0.5555555555555556,\"#d8576b\"],[0.6666666666666666,\"#ed7953\"],[0.7777777777777778,\"#fb9f3a\"],[0.8888888888888888,\"#fdca26\"],[1.0,\"#f0f921\"]]}],\"heatmapgl\":[{\"type\":\"heatmapgl\",\"colorbar\":{\"outlinewidth\":0,\"ticks\":\"\"},\"colorscale\":[[0.0,\"#0d0887\"],[0.1111111111111111,\"#46039f\"],[0.2222222222222222,\"#7201a8\"],[0.3333333333333333,\"#9c179e\"],[0.4444444444444444,\"#bd3786\"],[0.5555555555555556,\"#d8576b\"],[0.6666666666666666,\"#ed7953\"],[0.7777777777777778,\"#fb9f3a\"],[0.8888888888888888,\"#fdca26\"],[1.0,\"#f0f921\"]]}],\"contourcarpet\":[{\"type\":\"contourcarpet\",\"colorbar\":{\"outlinewidth\":0,\"ticks\":\"\"}}],\"contour\":[{\"type\":\"contour\",\"colorbar\":{\"outlinewidth\":0,\"ticks\":\"\"},\"colorscale\":[[0.0,\"#0d0887\"],[0.1111111111111111,\"#46039f\"],[0.2222222222222222,\"#7201a8\"],[0.3333333333333333,\"#9c179e\"],[0.4444444444444444,\"#bd3786\"],[0.5555555555555556,\"#d8576b\"],[0.6666666666666666,\"#ed7953\"],[0.7777777777777778,\"#fb9f3a\"],[0.8888888888888888,\"#fdca26\"],[1.0,\"#f0f921\"]]}],\"surface\":[{\"type\":\"surface\",\"colorbar\":{\"outlinewidth\":0,\"ticks\":\"\"},\"colorscale\":[[0.0,\"#0d0887\"],[0.1111111111111111,\"#46039f\"],[0.2222222222222222,\"#7201a8\"],[0.3333333333333333,\"#9c179e\"],[0.4444444444444444,\"#bd3786\"],[0.5555555555555556,\"#d8576b\"],[0.6666666666666666,\"#ed7953\"],[0.7777777777777778,\"#fb9f3a\"],[0.8888888888888888,\"#fdca26\"],[1.0,\"#f0f921\"]]}],\"mesh3d\":[{\"type\":\"mesh3d\",\"colorbar\":{\"outlinewidth\":0,\"ticks\":\"\"}}],\"scatter\":[{\"fillpattern\":{\"fillmode\":\"overlay\",\"size\":10,\"solidity\":0.2},\"type\":\"scatter\"}],\"parcoords\":[{\"type\":\"parcoords\",\"line\":{\"colorbar\":{\"outlinewidth\":0,\"ticks\":\"\"}}}],\"scatterpolargl\":[{\"type\":\"scatterpolargl\",\"marker\":{\"colorbar\":{\"outlinewidth\":0,\"ticks\":\"\"}}}],\"bar\":[{\"error_x\":{\"color\":\"#2a3f5f\"},\"error_y\":{\"color\":\"#2a3f5f\"},\"marker\":{\"line\":{\"color\":\"#E5ECF6\",\"width\":0.5},\"pattern\":{\"fillmode\":\"overlay\",\"size\":10,\"solidity\":0.2}},\"type\":\"bar\"}],\"scattergeo\":[{\"type\":\"scattergeo\",\"marker\":{\"colorbar\":{\"outlinewidth\":0,\"ticks\":\"\"}}}],\"scatterpolar\":[{\"type\":\"scatterpolar\",\"marker\":{\"colorbar\":{\"outlinewidth\":0,\"ticks\":\"\"}}}],\"histogram\":[{\"marker\":{\"pattern\":{\"fillmode\":\"overlay\",\"size\":10,\"solidity\":0.2}},\"type\":\"histogram\"}],\"scattergl\":[{\"type\":\"scattergl\",\"marker\":{\"colorbar\":{\"outlinewidth\":0,\"ticks\":\"\"}}}],\"scatter3d\":[{\"type\":\"scatter3d\",\"line\":{\"colorbar\":{\"outlinewidth\":0,\"ticks\":\"\"}},\"marker\":{\"colorbar\":{\"outlinewidth\":0,\"ticks\":\"\"}}}],\"scattermapbox\":[{\"type\":\"scattermapbox\",\"marker\":{\"colorbar\":{\"outlinewidth\":0,\"ticks\":\"\"}}}],\"scatterternary\":[{\"type\":\"scatterternary\",\"marker\":{\"colorbar\":{\"outlinewidth\":0,\"ticks\":\"\"}}}],\"scattercarpet\":[{\"type\":\"scattercarpet\",\"marker\":{\"colorbar\":{\"outlinewidth\":0,\"ticks\":\"\"}}}],\"carpet\":[{\"aaxis\":{\"endlinecolor\":\"#2a3f5f\",\"gridcolor\":\"white\",\"linecolor\":\"white\",\"minorgridcolor\":\"white\",\"startlinecolor\":\"#2a3f5f\"},\"baxis\":{\"endlinecolor\":\"#2a3f5f\",\"gridcolor\":\"white\",\"linecolor\":\"white\",\"minorgridcolor\":\"white\",\"startlinecolor\":\"#2a3f5f\"},\"type\":\"carpet\"}],\"table\":[{\"cells\":{\"fill\":{\"color\":\"#EBF0F8\"},\"line\":{\"color\":\"white\"}},\"header\":{\"fill\":{\"color\":\"#C8D4E3\"},\"line\":{\"color\":\"white\"}},\"type\":\"table\"}],\"barpolar\":[{\"marker\":{\"line\":{\"color\":\"#E5ECF6\",\"width\":0.5},\"pattern\":{\"fillmode\":\"overlay\",\"size\":10,\"solidity\":0.2}},\"type\":\"barpolar\"}],\"pie\":[{\"automargin\":true,\"type\":\"pie\"}]},\"layout\":{\"autotypenumbers\":\"strict\",\"colorway\":[\"#636efa\",\"#EF553B\",\"#00cc96\",\"#ab63fa\",\"#FFA15A\",\"#19d3f3\",\"#FF6692\",\"#B6E880\",\"#FF97FF\",\"#FECB52\"],\"font\":{\"color\":\"#2a3f5f\"},\"hovermode\":\"closest\",\"hoverlabel\":{\"align\":\"left\"},\"paper_bgcolor\":\"white\",\"plot_bgcolor\":\"#E5ECF6\",\"polar\":{\"bgcolor\":\"#E5ECF6\",\"angularaxis\":{\"gridcolor\":\"white\",\"linecolor\":\"white\",\"ticks\":\"\"},\"radialaxis\":{\"gridcolor\":\"white\",\"linecolor\":\"white\",\"ticks\":\"\"}},\"ternary\":{\"bgcolor\":\"#E5ECF6\",\"aaxis\":{\"gridcolor\":\"white\",\"linecolor\":\"white\",\"ticks\":\"\"},\"baxis\":{\"gridcolor\":\"white\",\"linecolor\":\"white\",\"ticks\":\"\"},\"caxis\":{\"gridcolor\":\"white\",\"linecolor\":\"white\",\"ticks\":\"\"}},\"coloraxis\":{\"colorbar\":{\"outlinewidth\":0,\"ticks\":\"\"}},\"colorscale\":{\"sequential\":[[0.0,\"#0d0887\"],[0.1111111111111111,\"#46039f\"],[0.2222222222222222,\"#7201a8\"],[0.3333333333333333,\"#9c179e\"],[0.4444444444444444,\"#bd3786\"],[0.5555555555555556,\"#d8576b\"],[0.6666666666666666,\"#ed7953\"],[0.7777777777777778,\"#fb9f3a\"],[0.8888888888888888,\"#fdca26\"],[1.0,\"#f0f921\"]],\"sequentialminus\":[[0.0,\"#0d0887\"],[0.1111111111111111,\"#46039f\"],[0.2222222222222222,\"#7201a8\"],[0.3333333333333333,\"#9c179e\"],[0.4444444444444444,\"#bd3786\"],[0.5555555555555556,\"#d8576b\"],[0.6666666666666666,\"#ed7953\"],[0.7777777777777778,\"#fb9f3a\"],[0.8888888888888888,\"#fdca26\"],[1.0,\"#f0f921\"]],\"diverging\":[[0,\"#8e0152\"],[0.1,\"#c51b7d\"],[0.2,\"#de77ae\"],[0.3,\"#f1b6da\"],[0.4,\"#fde0ef\"],[0.5,\"#f7f7f7\"],[0.6,\"#e6f5d0\"],[0.7,\"#b8e186\"],[0.8,\"#7fbc41\"],[0.9,\"#4d9221\"],[1,\"#276419\"]]},\"xaxis\":{\"gridcolor\":\"white\",\"linecolor\":\"white\",\"ticks\":\"\",\"title\":{\"standoff\":15},\"zerolinecolor\":\"white\",\"automargin\":true,\"zerolinewidth\":2},\"yaxis\":{\"gridcolor\":\"white\",\"linecolor\":\"white\",\"ticks\":\"\",\"title\":{\"standoff\":15},\"zerolinecolor\":\"white\",\"automargin\":true,\"zerolinewidth\":2},\"scene\":{\"xaxis\":{\"backgroundcolor\":\"#E5ECF6\",\"gridcolor\":\"white\",\"linecolor\":\"white\",\"showbackground\":true,\"ticks\":\"\",\"zerolinecolor\":\"white\",\"gridwidth\":2},\"yaxis\":{\"backgroundcolor\":\"#E5ECF6\",\"gridcolor\":\"white\",\"linecolor\":\"white\",\"showbackground\":true,\"ticks\":\"\",\"zerolinecolor\":\"white\",\"gridwidth\":2},\"zaxis\":{\"backgroundcolor\":\"#E5ECF6\",\"gridcolor\":\"white\",\"linecolor\":\"white\",\"showbackground\":true,\"ticks\":\"\",\"zerolinecolor\":\"white\",\"gridwidth\":2}},\"shapedefaults\":{\"line\":{\"color\":\"#2a3f5f\"}},\"annotationdefaults\":{\"arrowcolor\":\"#2a3f5f\",\"arrowhead\":0,\"arrowwidth\":1},\"geo\":{\"bgcolor\":\"white\",\"landcolor\":\"#E5ECF6\",\"subunitcolor\":\"white\",\"showland\":true,\"showlakes\":true,\"lakecolor\":\"white\"},\"title\":{\"x\":0.05},\"mapbox\":{\"style\":\"light\"}}},\"xaxis\":{\"anchor\":\"y\",\"domain\":[0.0,1.0],\"title\":{\"text\":\"Log(Population)\"}},\"yaxis\":{\"anchor\":\"x\",\"domain\":[0.0,1.0],\"title\":{\"text\":\"Log(Gross Domestic Product)\"}},\"coloraxis\":{\"colorbar\":{\"title\":{\"text\":\"Log(CO\\u2082 Emissions)\"}},\"colorscale\":[[0.0,\"#440154\"],[0.1111111111111111,\"#482878\"],[0.2222222222222222,\"#3e4989\"],[0.3333333333333333,\"#31688e\"],[0.4444444444444444,\"#26828e\"],[0.5555555555555556,\"#1f9e89\"],[0.6666666666666666,\"#35b779\"],[0.7777777777777778,\"#6ece58\"],[0.8888888888888888,\"#b5de2b\"],[1.0,\"#fde725\"]]},\"legend\":{\"tracegroupgap\":0},\"title\":{\"text\":\"The Carbon Cost of Economic Scale: A Global Comparison\",\"font\":{\"size\":20},\"x\":0.5,\"xanchor\":\"center\"},\"width\":1000,\"height\":600,\"annotations\":[{\"align\":\"center\",\"font\":{\"color\":\"gray\",\"size\":14},\"showarrow\":false,\"text\":\"Log-Log Relationship Between Population, GDP, and CO\\u2082 Emissions\",\"x\":0.56,\"xanchor\":\"center\",\"xref\":\"paper\",\"y\":1.08,\"yref\":\"paper\"}]},                        {\"responsive\": true}                    ).then(function(){\n",
       "                            \n",
       "var gd = document.getElementById('6e5d9b4c-e68b-4f8d-ac18-90ef838cc3a5');\n",
       "var x = new MutationObserver(function (mutations, observer) {{\n",
       "        var display = window.getComputedStyle(gd).display;\n",
       "        if (!display || display === 'none') {{\n",
       "            console.log([gd, 'removed!']);\n",
       "            Plotly.purge(gd);\n",
       "            observer.disconnect();\n",
       "        }}\n",
       "}});\n",
       "\n",
       "// Listen for the removal of the full notebook cells\n",
       "var notebookContainer = gd.closest('#notebook-container');\n",
       "if (notebookContainer) {{\n",
       "    x.observe(notebookContainer, {childList: true});\n",
       "}}\n",
       "\n",
       "// Listen for the clearing of the current output cell\n",
       "var outputEl = gd.closest('.output');\n",
       "if (outputEl) {{\n",
       "    x.observe(outputEl, {childList: true});\n",
       "}}\n",
       "\n",
       "                        })                };                });            </script>        </div>"
      ]
     },
     "metadata": {},
     "output_type": "display_data"
    }
   ],
   "source": [
    "# set up scatterplot in plotly\n",
    "fig = px.scatter(\n",
    "    countries,\n",
    "    x='log_population',\n",
    "    y='log_gdp',\n",
    "    color='log_co2_emissions',\n",
    "    hover_name='country',\n",
    "    color_continuous_scale='viridis',\n",
    "    title='The Carbon Cost of Economic Scale: A Global Comparison',\n",
    "    labels={\n",
    "        'log_population': 'Log(Population)',\n",
    "        'log_co2_emissions': 'Log(CO₂ Emissions)',\n",
    "        'log_gdp': 'Log(Gross Domestic Product)'\n",
    "    },\n",
    ")\n",
    "# customize the layout\n",
    "fig.update_layout(  \n",
    "    \n",
    "    # Set custom figure size\n",
    "    width=1000, height=600,\n",
    "    \n",
    "    # Center the title\n",
    "    title=dict(  \n",
    "        x=0.5,  \n",
    "        xanchor='center',\n",
    "        font=dict(size=20)\n",
    "    ),\n",
    "    \n",
    "    # Subtitle placed directly below the title\n",
    "    annotations=[\n",
    "        dict(\n",
    "            text=\"Log-Log Relationship Between Population, GDP, and CO₂ Emissions\",\n",
    "            x=0.56,\n",
    "            y=1.08,\n",
    "            xanchor='center',\n",
    "            xref='paper',\n",
    "            yref='paper',\n",
    "            showarrow=False,\n",
    "            font=dict(size=14, color='gray'),\n",
    "            align='center'\n",
    "        )\n",
    "    ]\n",
    ")\n",
    "\n",
    "# set marker size and add black borders to markers\n",
    "fig.update_traces(\n",
    "    marker=dict(\n",
    "        size=10,  # Size in pixels\n",
    "        line=dict(color='black', width=1)\n",
    "    )\n",
    ")\n",
    "\n",
    "fig.show()"
   ]
  },
  {
   "cell_type": "markdown",
   "id": "fa477ba6-cdab-4e58-b24a-d8d69d754c25",
   "metadata": {},
   "source": [
    "#### The above is an interactive scatterplot but cannot be rendered on GitHub. Check out the interactive scatterplot [here](https://mcfeenix.github.io/Exploratory-Data-Analysis-with-Python/plotly_scatter.html).\n",
    "#### The plot demonstrates that countries with higher log(GDP) and log(Population) also tend to exhibit higher log(CO₂ Emissions), suggesting a strong interdependence among these variables."
   ]
  },
  {
   "cell_type": "code",
   "execution_count": 31,
   "id": "1165d929-710a-4a0e-9418-280bf4a3c725",
   "metadata": {},
   "outputs": [],
   "source": [
    "# save the scatterplot to a .html file\n",
    "fig.write_html(\"plotly_scatter.html\")"
   ]
  }
 ],
 "metadata": {
  "kernelspec": {
   "display_name": "Python [conda env:base] *",
   "language": "python",
   "name": "conda-base-py"
  },
  "language_info": {
   "codemirror_mode": {
    "name": "ipython",
    "version": 3
   },
   "file_extension": ".py",
   "mimetype": "text/x-python",
   "name": "python",
   "nbconvert_exporter": "python",
   "pygments_lexer": "ipython3",
   "version": "3.11.7"
  }
 },
 "nbformat": 4,
 "nbformat_minor": 5
}
